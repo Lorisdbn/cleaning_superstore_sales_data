{
 "cells": [
  {
   "cell_type": "code",
   "execution_count": 67,
   "id": "932ee4ed-5a3d-443d-801e-cfb4c1e6793e",
   "metadata": {
    "customType": "sql",
    "dataFrameVariableName": "df",
    "executionCancelledAt": null,
    "executionTime": 1068,
    "lastExecutedAt": 1755101216541,
    "lastExecutedByKernel": "279a3e93-ca7c-4157-a494-96eb21454f83",
    "lastScheduledRunId": null,
    "lastSuccessfullyExecutedCode": "SELECT DISTINCT category\nFROM products;",
    "outputsMetadata": {
     "0": {
      "height": 550,
      "tableState": {
       "customFilter": {
        "const": {
         "type": "boolean",
         "valid": true,
         "value": true
        },
        "id": "a5d2c491-78b0-4b25-be01-e2590366bb52",
        "nodeType": "const"
       }
      },
      "type": "dataFrame"
     }
    },
    "sqlCellMode": "dataFrame",
    "sqlSource": {
     "integrationId": "89e17161-a224-4a8a-846b-0adc0fe7a4b1",
     "integrationType": "postgresql",
     "type": "integration"
    }
   },
   "outputs": [
    {
     "@datacamp/metadata": {
      "executedQuery": "SELECT DISTINCT category\nFROM products;",
      "executedQueryParameters": []
     },
     "data": {
      "application/com.datacamp.data-table.v2+json": {
       "table": {
        "data": {
         "category": [
          "Furniture",
          "Office Supplies",
          "Technology"
         ],
         "index": [
          0,
          1,
          2
         ]
        },
        "schema": {
         "fields": [
          {
           "name": "index",
           "type": "integer"
          },
          {
           "name": "category",
           "type": "string"
          }
         ],
         "pandas_version": "1.4.0",
         "primaryKey": [
          "index"
         ]
        }
       },
       "total_rows": 3,
       "truncation_type": null
      },
      "text/html": [
       "<div>\n",
       "<style scoped>\n",
       "    .dataframe tbody tr th:only-of-type {\n",
       "        vertical-align: middle;\n",
       "    }\n",
       "\n",
       "    .dataframe tbody tr th {\n",
       "        vertical-align: top;\n",
       "    }\n",
       "\n",
       "    .dataframe thead th {\n",
       "        text-align: right;\n",
       "    }\n",
       "</style>\n",
       "<table border=\"1\" class=\"dataframe\">\n",
       "  <thead>\n",
       "    <tr style=\"text-align: right;\">\n",
       "      <th></th>\n",
       "      <th>category</th>\n",
       "    </tr>\n",
       "  </thead>\n",
       "  <tbody>\n",
       "    <tr>\n",
       "      <th>0</th>\n",
       "      <td>Furniture</td>\n",
       "    </tr>\n",
       "    <tr>\n",
       "      <th>1</th>\n",
       "      <td>Office Supplies</td>\n",
       "    </tr>\n",
       "    <tr>\n",
       "      <th>2</th>\n",
       "      <td>Technology</td>\n",
       "    </tr>\n",
       "  </tbody>\n",
       "</table>\n",
       "</div>"
      ],
      "text/plain": [
       "          category\n",
       "0        Furniture\n",
       "1  Office Supplies\n",
       "2       Technology"
      ]
     },
     "execution_count": 67,
     "metadata": {
      "application/com.datacamp.data-table.v2+json": {
       "status": "success"
      }
     },
     "output_type": "execute_result"
    }
   ],
   "source": [
    "SELECT DISTINCT category\n",
    "FROM products;"
   ]
  },
  {
   "cell_type": "code",
   "execution_count": 68,
   "id": "5c2a00a9-2231-45b9-97be-13a7ebec4d2b",
   "metadata": {
    "customType": "sql",
    "dataFrameVariableName": "top_five_products_each_category",
    "executionCancelledAt": null,
    "executionTime": 1229,
    "integrationExample": {
     "example": "-- Explore the data in the table\nSELECT *\nFROM companies\nLIMIT 5",
     "sqlSource": {
      "integrationId": "89e17161-a224-4a8a-846b-0adc0fe7a4b1",
      "integrationType": "postgresql",
      "type": "integration"
     }
    },
    "lastExecutedAt": 1755101217770,
    "lastExecutedByKernel": "279a3e93-ca7c-4157-a494-96eb21454f83",
    "lastScheduledRunId": null,
    "lastSuccessfullyExecutedCode": "-- top_five_products_each_category\nWITH top_5 AS (\n\tSELECT p.category,\n\t       p.product_name,\n\t       CAST(ROUND(SUM(o.sales)::numeric, 2) AS numeric)  AS product_total_sales,\n           CAST(ROUND(SUM(o.profit)::numeric, 2) AS numeric) AS product_total_profit,\n\t       ROW_NUMBER() OVER (PARTITION BY category  ORDER BY SUM(sales) DESC) AS RANK\n\tFROM orders AS o\n\tINNER JOIN products AS p\n\tON o.product_id = p.product_id\n\tGROUP BY category, product_name\n\tORDER BY category ASC, product_total_sales DESC)\nSELECT category, product_name, product_total_sales, product_total_profit, RANK AS product_rank\nFROM top_5\nWHERE RANK < 6;",
    "outputsMetadata": {
     "0": {
      "height": 550,
      "tableState": {
       "customFilter": {
        "const": {
         "type": "boolean",
         "valid": true,
         "value": true
        },
        "id": "a5d2c491-78b0-4b25-be01-e2590366bb52",
        "nodeType": "const"
       }
      },
      "type": "dataFrame"
     }
    },
    "sqlCellMode": "dataFrame",
    "sqlSource": {
     "integrationId": "89e17161-a224-4a8a-846b-0adc0fe7a4b1",
     "integrationType": "postgresql",
     "type": "integration"
    }
   },
   "outputs": [
    {
     "@datacamp/metadata": {
      "executedQuery": "-- top_five_products_each_category\nWITH top_5 AS (\n\tSELECT p.category,\n\t       p.product_name,\n\t       CAST(ROUND(SUM(o.sales)::numeric, 2) AS numeric)  AS product_total_sales,\n           CAST(ROUND(SUM(o.profit)::numeric, 2) AS numeric) AS product_total_profit,\n\t       ROW_NUMBER() OVER (PARTITION BY category  ORDER BY SUM(sales) DESC) AS RANK\n\tFROM orders AS o\n\tINNER JOIN products AS p\n\tON o.product_id = p.product_id\n\tGROUP BY category, product_name\n\tORDER BY category ASC, product_total_sales DESC)\nSELECT category, product_name, product_total_sales, product_total_profit, RANK AS product_rank\nFROM top_5\nWHERE RANK < 6;",
      "executedQueryParameters": []
     },
     "data": {
      "application/com.datacamp.data-table.v2+json": {
       "table": {
        "data": {
         "category": [
          "Furniture",
          "Furniture",
          "Furniture",
          "Furniture",
          "Furniture",
          "Office Supplies",
          "Office Supplies",
          "Office Supplies",
          "Office Supplies",
          "Office Supplies",
          "Technology",
          "Technology",
          "Technology",
          "Technology",
          "Technology"
         ],
         "index": [
          0,
          1,
          2,
          3,
          4,
          5,
          6,
          7,
          8,
          9,
          10,
          11,
          12,
          13,
          14
         ],
         "product_name": [
          "Hon Executive Leather Armchair, Adjustable",
          "Office Star Executive Leather Armchair, Adjustable",
          "Harbour Creations Executive Leather Armchair, Adjustable",
          "SAFCO Executive Leather Armchair, Black",
          "Novimex Executive Leather Armchair, Adjustable",
          "Eldon File Cart, Single Width",
          "Hoover Stove, White",
          "Hoover Stove, Red",
          "Rogers File Cart, Single Width",
          "Smead Lockers, Industrial",
          "Apple Smart Phone, Full Size",
          "Cisco Smart Phone, Full Size",
          "Motorola Smart Phone, Full Size",
          "Nokia Smart Phone, Full Size",
          "Canon imageCLASS 2200 Advanced Copier"
         ],
         "product_rank": [
          1,
          2,
          3,
          4,
          5,
          1,
          2,
          3,
          4,
          5,
          1,
          2,
          3,
          4,
          5
         ],
         "product_total_profit": [
          5997.25,
          4925.8,
          10427.33,
          7154.28,
          5562.35,
          5571.26,
          -2180.63,
          11651.68,
          2368.82,
          3630.44,
          5921.58,
          17238.52,
          17027.11,
          9938.2,
          25199.93
         ],
         "product_total_sales": [
          58193.48,
          51449.8,
          50121.52,
          41923.53,
          40585.13,
          39873.23,
          32842.6,
          32644.13,
          29558.82,
          28991.66,
          86935.78,
          76441.53,
          73156.3,
          71904.56,
          61599.82
         ]
        },
        "schema": {
         "fields": [
          {
           "name": "index",
           "type": "integer"
          },
          {
           "name": "category",
           "type": "string"
          },
          {
           "name": "product_name",
           "type": "string"
          },
          {
           "name": "product_total_sales",
           "type": "number"
          },
          {
           "name": "product_total_profit",
           "type": "number"
          },
          {
           "name": "product_rank",
           "type": "integer"
          }
         ],
         "pandas_version": "1.4.0",
         "primaryKey": [
          "index"
         ]
        }
       },
       "total_rows": 15,
       "truncation_type": null
      },
      "text/html": [
       "<div>\n",
       "<style scoped>\n",
       "    .dataframe tbody tr th:only-of-type {\n",
       "        vertical-align: middle;\n",
       "    }\n",
       "\n",
       "    .dataframe tbody tr th {\n",
       "        vertical-align: top;\n",
       "    }\n",
       "\n",
       "    .dataframe thead th {\n",
       "        text-align: right;\n",
       "    }\n",
       "</style>\n",
       "<table border=\"1\" class=\"dataframe\">\n",
       "  <thead>\n",
       "    <tr style=\"text-align: right;\">\n",
       "      <th></th>\n",
       "      <th>category</th>\n",
       "      <th>product_name</th>\n",
       "      <th>product_total_sales</th>\n",
       "      <th>product_total_profit</th>\n",
       "      <th>product_rank</th>\n",
       "    </tr>\n",
       "  </thead>\n",
       "  <tbody>\n",
       "    <tr>\n",
       "      <th>0</th>\n",
       "      <td>Furniture</td>\n",
       "      <td>Hon Executive Leather Armchair, Adjustable</td>\n",
       "      <td>58193.48</td>\n",
       "      <td>5997.25</td>\n",
       "      <td>1</td>\n",
       "    </tr>\n",
       "    <tr>\n",
       "      <th>1</th>\n",
       "      <td>Furniture</td>\n",
       "      <td>Office Star Executive Leather Armchair, Adjust...</td>\n",
       "      <td>51449.80</td>\n",
       "      <td>4925.80</td>\n",
       "      <td>2</td>\n",
       "    </tr>\n",
       "    <tr>\n",
       "      <th>2</th>\n",
       "      <td>Furniture</td>\n",
       "      <td>Harbour Creations Executive Leather Armchair, ...</td>\n",
       "      <td>50121.52</td>\n",
       "      <td>10427.33</td>\n",
       "      <td>3</td>\n",
       "    </tr>\n",
       "    <tr>\n",
       "      <th>3</th>\n",
       "      <td>Furniture</td>\n",
       "      <td>SAFCO Executive Leather Armchair, Black</td>\n",
       "      <td>41923.53</td>\n",
       "      <td>7154.28</td>\n",
       "      <td>4</td>\n",
       "    </tr>\n",
       "    <tr>\n",
       "      <th>4</th>\n",
       "      <td>Furniture</td>\n",
       "      <td>Novimex Executive Leather Armchair, Adjustable</td>\n",
       "      <td>40585.13</td>\n",
       "      <td>5562.35</td>\n",
       "      <td>5</td>\n",
       "    </tr>\n",
       "    <tr>\n",
       "      <th>5</th>\n",
       "      <td>Office Supplies</td>\n",
       "      <td>Eldon File Cart, Single Width</td>\n",
       "      <td>39873.23</td>\n",
       "      <td>5571.26</td>\n",
       "      <td>1</td>\n",
       "    </tr>\n",
       "    <tr>\n",
       "      <th>6</th>\n",
       "      <td>Office Supplies</td>\n",
       "      <td>Hoover Stove, White</td>\n",
       "      <td>32842.60</td>\n",
       "      <td>-2180.63</td>\n",
       "      <td>2</td>\n",
       "    </tr>\n",
       "    <tr>\n",
       "      <th>7</th>\n",
       "      <td>Office Supplies</td>\n",
       "      <td>Hoover Stove, Red</td>\n",
       "      <td>32644.13</td>\n",
       "      <td>11651.68</td>\n",
       "      <td>3</td>\n",
       "    </tr>\n",
       "    <tr>\n",
       "      <th>8</th>\n",
       "      <td>Office Supplies</td>\n",
       "      <td>Rogers File Cart, Single Width</td>\n",
       "      <td>29558.82</td>\n",
       "      <td>2368.82</td>\n",
       "      <td>4</td>\n",
       "    </tr>\n",
       "    <tr>\n",
       "      <th>9</th>\n",
       "      <td>Office Supplies</td>\n",
       "      <td>Smead Lockers, Industrial</td>\n",
       "      <td>28991.66</td>\n",
       "      <td>3630.44</td>\n",
       "      <td>5</td>\n",
       "    </tr>\n",
       "    <tr>\n",
       "      <th>10</th>\n",
       "      <td>Technology</td>\n",
       "      <td>Apple Smart Phone, Full Size</td>\n",
       "      <td>86935.78</td>\n",
       "      <td>5921.58</td>\n",
       "      <td>1</td>\n",
       "    </tr>\n",
       "    <tr>\n",
       "      <th>11</th>\n",
       "      <td>Technology</td>\n",
       "      <td>Cisco Smart Phone, Full Size</td>\n",
       "      <td>76441.53</td>\n",
       "      <td>17238.52</td>\n",
       "      <td>2</td>\n",
       "    </tr>\n",
       "    <tr>\n",
       "      <th>12</th>\n",
       "      <td>Technology</td>\n",
       "      <td>Motorola Smart Phone, Full Size</td>\n",
       "      <td>73156.30</td>\n",
       "      <td>17027.11</td>\n",
       "      <td>3</td>\n",
       "    </tr>\n",
       "    <tr>\n",
       "      <th>13</th>\n",
       "      <td>Technology</td>\n",
       "      <td>Nokia Smart Phone, Full Size</td>\n",
       "      <td>71904.56</td>\n",
       "      <td>9938.20</td>\n",
       "      <td>4</td>\n",
       "    </tr>\n",
       "    <tr>\n",
       "      <th>14</th>\n",
       "      <td>Technology</td>\n",
       "      <td>Canon imageCLASS 2200 Advanced Copier</td>\n",
       "      <td>61599.82</td>\n",
       "      <td>25199.93</td>\n",
       "      <td>5</td>\n",
       "    </tr>\n",
       "  </tbody>\n",
       "</table>\n",
       "</div>"
      ],
      "text/plain": [
       "           category  ... product_rank\n",
       "0         Furniture  ...            1\n",
       "1         Furniture  ...            2\n",
       "2         Furniture  ...            3\n",
       "3         Furniture  ...            4\n",
       "4         Furniture  ...            5\n",
       "5   Office Supplies  ...            1\n",
       "6   Office Supplies  ...            2\n",
       "7   Office Supplies  ...            3\n",
       "8   Office Supplies  ...            4\n",
       "9   Office Supplies  ...            5\n",
       "10       Technology  ...            1\n",
       "11       Technology  ...            2\n",
       "12       Technology  ...            3\n",
       "13       Technology  ...            4\n",
       "14       Technology  ...            5\n",
       "\n",
       "[15 rows x 5 columns]"
      ]
     },
     "execution_count": 68,
     "metadata": {
      "application/com.datacamp.data-table.v2+json": {
       "status": "success"
      }
     },
     "output_type": "execute_result"
    }
   ],
   "source": [
    "-- top_five_products_each_category\n",
    "WITH top_5 AS (\n",
    "\tSELECT p.category,\n",
    "\t       p.product_name,\n",
    "\t       CAST(ROUND(SUM(o.sales)::numeric, 2) AS numeric)  AS product_total_sales,\n",
    "           CAST(ROUND(SUM(o.profit)::numeric, 2) AS numeric) AS product_total_profit,\n",
    "\t       ROW_NUMBER() OVER (PARTITION BY category  ORDER BY SUM(sales) DESC) AS RANK\n",
    "\tFROM orders AS o\n",
    "\tINNER JOIN products AS p\n",
    "\tON o.product_id = p.product_id\n",
    "\tGROUP BY category, product_name\n",
    "\tORDER BY category ASC, product_total_sales DESC)\n",
    "SELECT category, product_name, product_total_sales, product_total_profit, RANK AS product_rank\n",
    "FROM top_5\n",
    "WHERE RANK < 6;"
   ]
  },
  {
   "cell_type": "code",
   "execution_count": 69,
   "id": "13975742-37f9-4974-bdb2-b2a8365f31ea",
   "metadata": {
    "customType": "sql",
    "dataFrameVariableName": "df2",
    "executionCancelledAt": null,
    "executionTime": 1671,
    "lastExecutedAt": 1755101219441,
    "lastExecutedByKernel": "279a3e93-ca7c-4157-a494-96eb21454f83",
    "lastScheduledRunId": null,
    "lastSuccessfullyExecutedCode": "-- finding which quantities are missing\nSELECT *\nFROM orders\nWHERE quantity IS NULL;",
    "outputsMetadata": {
     "0": {
      "height": 550,
      "tableState": {
       "customFilter": {
        "const": {
         "type": "boolean",
         "valid": true,
         "value": true
        },
        "id": "a5d2c491-78b0-4b25-be01-e2590366bb52",
        "nodeType": "const"
       }
      },
      "type": "dataFrame"
     }
    },
    "sqlCellMode": "dataFrame",
    "sqlSource": {
     "integrationId": "89e17161-a224-4a8a-846b-0adc0fe7a4b1",
     "integrationType": "postgresql",
     "type": "integration"
    }
   },
   "outputs": [
    {
     "@datacamp/metadata": {
      "executedQuery": "-- finding which quantities are missing\nSELECT *\nFROM orders\nWHERE quantity IS NULL;",
      "executedQueryParameters": []
     },
     "data": {
      "application/com.datacamp.data-table.v2+json": {
       "table": {
        "data": {
         "city": [
          "Abidjan",
          "Severodvinsk",
          "Redondo Beach",
          "Algiers",
          "Usol'ye-Sibirskoye"
         ],
         "country": [
          "Cote d'Ivoire",
          "Russia",
          "United States",
          "Algeria",
          "Russia"
         ],
         "customer_id": [
          "MJ-7740",
          "TH-11235",
          "KN-16450",
          "YS-11880",
          "ND-8460"
         ],
         "customer_name": [
          "Max Jones",
          "Tiffany House",
          "Kean Nguyen",
          "Yana Sorensen",
          "Neil Ducich"
         ],
         "discount": [
          0,
          0,
          0.15,
          0,
          0
         ],
         "index": [
          0,
          1,
          2,
          3,
          4
         ],
         "market": [
          "Africa",
          "EMEA",
          "US",
          "Africa",
          "EMEA"
         ],
         "order_date": [
          "2013-09-04T00:00:00.000",
          "2011-11-29T00:00:00.000",
          "2011-04-12T00:00:00.000",
          "2014-12-27T00:00:00.000",
          "2011-12-08T00:00:00.000"
         ],
         "order_id": [
          "IV-2013-8930",
          "RS-2011-1760",
          "CA-2011-154599",
          "AG-2014-9060",
          "RS-2011-3610"
         ],
         "order_priority": [
          "Medium",
          "High",
          "Medium",
          "Medium",
          "Medium"
         ],
         "postal_code": [
          null,
          null,
          90278,
          null,
          null
         ],
         "product_id": [
          "TEC-STA-10003330",
          "FUR-ADV-10000571",
          "FUR-BO-10001337",
          "TEC-STA-10004542",
          "FUR-ADV-10004395"
         ],
         "profit": [
          217.8,
          140.4,
          -18.147,
          24,
          42.06
         ],
         "quantity": [
          null,
          null,
          null,
          null,
          null
         ],
         "region": [
          "Africa",
          "EMEA",
          "West",
          "Africa",
          "EMEA"
         ],
         "row_id": [
          50688,
          43428,
          34093,
          46824,
          43722
         ],
         "sales": [
          506.64,
          438.96,
          308.499,
          160.32,
          84.12
         ],
         "segment": [
          "Consumer",
          "Corporate",
          "Corporate",
          "Corporate",
          "Corporate"
         ],
         "ship_date": [
          "2013-09-04T00:00:00.000",
          "2011-12-04T00:00:00.000",
          "2011-04-17T00:00:00.000",
          "2015-01-01T00:00:00.000",
          "2011-12-10T00:00:00.000"
         ],
         "ship_mode": [
          "Same Day",
          "Standard Class",
          "Standard Class",
          "Standard Class",
          "First Class"
         ],
         "shipping_cost": [
          65.54,
          53.77,
          24.38,
          12.66,
          11.83
         ],
         "state": [
          "Lagunes",
          "Arkhangel'sk",
          "California",
          "Alger",
          "Irkutsk"
         ]
        },
        "schema": {
         "fields": [
          {
           "name": "index",
           "type": "integer"
          },
          {
           "name": "row_id",
           "type": "integer"
          },
          {
           "name": "order_id",
           "type": "string"
          },
          {
           "name": "order_date",
           "type": "datetime"
          },
          {
           "name": "ship_date",
           "type": "datetime"
          },
          {
           "name": "ship_mode",
           "type": "string"
          },
          {
           "name": "customer_id",
           "type": "string"
          },
          {
           "name": "customer_name",
           "type": "string"
          },
          {
           "name": "segment",
           "type": "string"
          },
          {
           "name": "city",
           "type": "string"
          },
          {
           "name": "state",
           "type": "string"
          },
          {
           "name": "country",
           "type": "string"
          },
          {
           "name": "postal_code",
           "type": "number"
          },
          {
           "name": "market",
           "type": "string"
          },
          {
           "name": "region",
           "type": "string"
          },
          {
           "name": "product_id",
           "type": "string"
          },
          {
           "name": "sales",
           "type": "number"
          },
          {
           "name": "quantity",
           "type": "number"
          },
          {
           "name": "discount",
           "type": "number"
          },
          {
           "name": "profit",
           "type": "number"
          },
          {
           "name": "shipping_cost",
           "type": "number"
          },
          {
           "name": "order_priority",
           "type": "string"
          }
         ],
         "pandas_version": "1.4.0",
         "primaryKey": [
          "index"
         ]
        }
       },
       "total_rows": 5,
       "truncation_type": null
      },
      "text/html": [
       "<div>\n",
       "<style scoped>\n",
       "    .dataframe tbody tr th:only-of-type {\n",
       "        vertical-align: middle;\n",
       "    }\n",
       "\n",
       "    .dataframe tbody tr th {\n",
       "        vertical-align: top;\n",
       "    }\n",
       "\n",
       "    .dataframe thead th {\n",
       "        text-align: right;\n",
       "    }\n",
       "</style>\n",
       "<table border=\"1\" class=\"dataframe\">\n",
       "  <thead>\n",
       "    <tr style=\"text-align: right;\">\n",
       "      <th></th>\n",
       "      <th>row_id</th>\n",
       "      <th>order_id</th>\n",
       "      <th>order_date</th>\n",
       "      <th>ship_date</th>\n",
       "      <th>ship_mode</th>\n",
       "      <th>customer_id</th>\n",
       "      <th>customer_name</th>\n",
       "      <th>segment</th>\n",
       "      <th>city</th>\n",
       "      <th>state</th>\n",
       "      <th>country</th>\n",
       "      <th>postal_code</th>\n",
       "      <th>market</th>\n",
       "      <th>region</th>\n",
       "      <th>product_id</th>\n",
       "      <th>sales</th>\n",
       "      <th>quantity</th>\n",
       "      <th>discount</th>\n",
       "      <th>profit</th>\n",
       "      <th>shipping_cost</th>\n",
       "      <th>order_priority</th>\n",
       "    </tr>\n",
       "  </thead>\n",
       "  <tbody>\n",
       "    <tr>\n",
       "      <th>0</th>\n",
       "      <td>50688</td>\n",
       "      <td>IV-2013-8930</td>\n",
       "      <td>2013-09-04</td>\n",
       "      <td>2013-09-04</td>\n",
       "      <td>Same Day</td>\n",
       "      <td>MJ-7740</td>\n",
       "      <td>Max Jones</td>\n",
       "      <td>Consumer</td>\n",
       "      <td>Abidjan</td>\n",
       "      <td>Lagunes</td>\n",
       "      <td>Cote d'Ivoire</td>\n",
       "      <td>NaN</td>\n",
       "      <td>Africa</td>\n",
       "      <td>Africa</td>\n",
       "      <td>TEC-STA-10003330</td>\n",
       "      <td>506.640</td>\n",
       "      <td>NaN</td>\n",
       "      <td>0.00</td>\n",
       "      <td>217.800</td>\n",
       "      <td>65.54</td>\n",
       "      <td>Medium</td>\n",
       "    </tr>\n",
       "    <tr>\n",
       "      <th>1</th>\n",
       "      <td>43428</td>\n",
       "      <td>RS-2011-1760</td>\n",
       "      <td>2011-11-29</td>\n",
       "      <td>2011-12-04</td>\n",
       "      <td>Standard Class</td>\n",
       "      <td>TH-11235</td>\n",
       "      <td>Tiffany House</td>\n",
       "      <td>Corporate</td>\n",
       "      <td>Severodvinsk</td>\n",
       "      <td>Arkhangel'sk</td>\n",
       "      <td>Russia</td>\n",
       "      <td>NaN</td>\n",
       "      <td>EMEA</td>\n",
       "      <td>EMEA</td>\n",
       "      <td>FUR-ADV-10000571</td>\n",
       "      <td>438.960</td>\n",
       "      <td>NaN</td>\n",
       "      <td>0.00</td>\n",
       "      <td>140.400</td>\n",
       "      <td>53.77</td>\n",
       "      <td>High</td>\n",
       "    </tr>\n",
       "    <tr>\n",
       "      <th>2</th>\n",
       "      <td>34093</td>\n",
       "      <td>CA-2011-154599</td>\n",
       "      <td>2011-04-12</td>\n",
       "      <td>2011-04-17</td>\n",
       "      <td>Standard Class</td>\n",
       "      <td>KN-16450</td>\n",
       "      <td>Kean Nguyen</td>\n",
       "      <td>Corporate</td>\n",
       "      <td>Redondo Beach</td>\n",
       "      <td>California</td>\n",
       "      <td>United States</td>\n",
       "      <td>90278.0</td>\n",
       "      <td>US</td>\n",
       "      <td>West</td>\n",
       "      <td>FUR-BO-10001337</td>\n",
       "      <td>308.499</td>\n",
       "      <td>NaN</td>\n",
       "      <td>0.15</td>\n",
       "      <td>-18.147</td>\n",
       "      <td>24.38</td>\n",
       "      <td>Medium</td>\n",
       "    </tr>\n",
       "    <tr>\n",
       "      <th>3</th>\n",
       "      <td>46824</td>\n",
       "      <td>AG-2014-9060</td>\n",
       "      <td>2014-12-27</td>\n",
       "      <td>2015-01-01</td>\n",
       "      <td>Standard Class</td>\n",
       "      <td>YS-11880</td>\n",
       "      <td>Yana Sorensen</td>\n",
       "      <td>Corporate</td>\n",
       "      <td>Algiers</td>\n",
       "      <td>Alger</td>\n",
       "      <td>Algeria</td>\n",
       "      <td>NaN</td>\n",
       "      <td>Africa</td>\n",
       "      <td>Africa</td>\n",
       "      <td>TEC-STA-10004542</td>\n",
       "      <td>160.320</td>\n",
       "      <td>NaN</td>\n",
       "      <td>0.00</td>\n",
       "      <td>24.000</td>\n",
       "      <td>12.66</td>\n",
       "      <td>Medium</td>\n",
       "    </tr>\n",
       "    <tr>\n",
       "      <th>4</th>\n",
       "      <td>43722</td>\n",
       "      <td>RS-2011-3610</td>\n",
       "      <td>2011-12-08</td>\n",
       "      <td>2011-12-10</td>\n",
       "      <td>First Class</td>\n",
       "      <td>ND-8460</td>\n",
       "      <td>Neil Ducich</td>\n",
       "      <td>Corporate</td>\n",
       "      <td>Usol'ye-Sibirskoye</td>\n",
       "      <td>Irkutsk</td>\n",
       "      <td>Russia</td>\n",
       "      <td>NaN</td>\n",
       "      <td>EMEA</td>\n",
       "      <td>EMEA</td>\n",
       "      <td>FUR-ADV-10004395</td>\n",
       "      <td>84.120</td>\n",
       "      <td>NaN</td>\n",
       "      <td>0.00</td>\n",
       "      <td>42.060</td>\n",
       "      <td>11.83</td>\n",
       "      <td>Medium</td>\n",
       "    </tr>\n",
       "  </tbody>\n",
       "</table>\n",
       "</div>"
      ],
      "text/plain": [
       "   row_id        order_id order_date  ...   profit shipping_cost order_priority\n",
       "0   50688    IV-2013-8930 2013-09-04  ...  217.800         65.54         Medium\n",
       "1   43428    RS-2011-1760 2011-11-29  ...  140.400         53.77           High\n",
       "2   34093  CA-2011-154599 2011-04-12  ...  -18.147         24.38         Medium\n",
       "3   46824    AG-2014-9060 2014-12-27  ...   24.000         12.66         Medium\n",
       "4   43722    RS-2011-3610 2011-12-08  ...   42.060         11.83         Medium\n",
       "\n",
       "[5 rows x 21 columns]"
      ]
     },
     "execution_count": 69,
     "metadata": {
      "application/com.datacamp.data-table.v2+json": {
       "status": "success"
      }
     },
     "output_type": "execute_result"
    }
   ],
   "source": [
    "-- finding which quantities are missing\n",
    "SELECT *\n",
    "FROM orders\n",
    "WHERE quantity IS NULL;"
   ]
  },
  {
   "cell_type": "code",
   "execution_count": 70,
   "id": "b4f7fa0d-b44a-4f4d-86fe-635f081c5e71",
   "metadata": {
    "customType": "sql",
    "dataFrameVariableName": "df1",
    "executionCancelledAt": null,
    "executionTime": 1333,
    "lastExecutedAt": 1755101220774,
    "lastExecutedByKernel": "279a3e93-ca7c-4157-a494-96eb21454f83",
    "lastScheduledRunId": null,
    "lastSuccessfullyExecutedCode": "-- calculating the IV-2013-8930 order quantity\nSELECT *\nFROM orders\nWHERE product_id = 'TEC-STA-10003330'\nAND market = 'Africa'\nAND region = 'Africa';\n-- it seems that the missing quantity is 2 (253,32 * 2 pcs)",
    "outputsMetadata": {
     "0": {
      "height": 550,
      "tableState": {
       "customFilter": {
        "const": {
         "type": "boolean",
         "valid": true,
         "value": true
        },
        "id": "a5d2c491-78b0-4b25-be01-e2590366bb52",
        "nodeType": "const"
       }
      },
      "type": "dataFrame"
     }
    },
    "sqlCellMode": "dataFrame",
    "sqlSource": {
     "integrationId": "89e17161-a224-4a8a-846b-0adc0fe7a4b1",
     "integrationType": "postgresql",
     "type": "integration"
    }
   },
   "outputs": [
    {
     "@datacamp/metadata": {
      "executedQuery": "-- calculating the IV-2013-8930 order quantity\nSELECT *\nFROM orders\nWHERE product_id = 'TEC-STA-10003330'\nAND market = 'Africa'\nAND region = 'Africa';\n-- it seems that the missing quantity is 2 (253,32 * 2 pcs)",
      "executedQueryParameters": []
     },
     "data": {
      "application/com.datacamp.data-table.v2+json": {
       "table": {
        "data": {
         "city": [
          "Antananarivo",
          "Abidjan",
          "Casablanca",
          "Abidjan"
         ],
         "country": [
          "Madagascar",
          "Cote d'Ivoire",
          "Morocco",
          "Cote d'Ivoire"
         ],
         "customer_id": [
          "DH-3675",
          "MJ-7740",
          "AJ-960",
          "MJ-7740"
         ],
         "customer_name": [
          "Duane Huffman",
          "Max Jones",
          "Astrea Jones",
          "Max Jones"
         ],
         "discount": [
          0,
          0,
          0,
          0
         ],
         "index": [
          0,
          1,
          2,
          3
         ],
         "market": [
          "Africa",
          "Africa",
          "Africa",
          "Africa"
         ],
         "order_date": [
          "2013-10-14T00:00:00.000",
          "2013-09-04T00:00:00.000",
          "2012-08-27T00:00:00.000",
          "2013-09-04T00:00:00.000"
         ],
         "order_id": [
          "MA-2013-1850",
          "IV-2013-8930",
          "MO-2012-100",
          "IV-2013-8930"
         ],
         "order_priority": [
          "Critical",
          "Medium",
          "High",
          "Medium"
         ],
         "postal_code": [
          null,
          null,
          null,
          null
         ],
         "product_id": [
          "TEC-STA-10003330",
          "TEC-STA-10003330",
          "TEC-STA-10003330",
          "TEC-STA-10003330"
         ],
         "profit": [
          653.4,
          217.8,
          108.9,
          108.9
         ],
         "quantity": [
          6,
          null,
          1,
          1
         ],
         "region": [
          "Africa",
          "Africa",
          "Africa",
          "Africa"
         ],
         "row_id": [
          41520,
          50688,
          47981,
          50687
         ],
         "sales": [
          1519.92,
          506.64,
          253.32,
          253.32
         ],
         "segment": [
          "Home Office",
          "Consumer",
          "Consumer",
          "Consumer"
         ],
         "ship_date": [
          "2013-10-15T00:00:00.000",
          "2013-09-04T00:00:00.000",
          "2012-08-31T00:00:00.000",
          "2013-09-04T00:00:00.000"
         ],
         "ship_mode": [
          "First Class",
          "Same Day",
          "Standard Class",
          "Same Day"
         ],
         "shipping_cost": [
          286.2,
          65.54,
          39.44,
          28.51
         ],
         "state": [
          "Analamanga",
          "Lagunes",
          "Grand Casablanca",
          "Lagunes"
         ]
        },
        "schema": {
         "fields": [
          {
           "name": "index",
           "type": "integer"
          },
          {
           "name": "row_id",
           "type": "integer"
          },
          {
           "name": "order_id",
           "type": "string"
          },
          {
           "name": "order_date",
           "type": "datetime"
          },
          {
           "name": "ship_date",
           "type": "datetime"
          },
          {
           "name": "ship_mode",
           "type": "string"
          },
          {
           "name": "customer_id",
           "type": "string"
          },
          {
           "name": "customer_name",
           "type": "string"
          },
          {
           "name": "segment",
           "type": "string"
          },
          {
           "name": "city",
           "type": "string"
          },
          {
           "name": "state",
           "type": "string"
          },
          {
           "name": "country",
           "type": "string"
          },
          {
           "name": "postal_code",
           "type": "number"
          },
          {
           "name": "market",
           "type": "string"
          },
          {
           "name": "region",
           "type": "string"
          },
          {
           "name": "product_id",
           "type": "string"
          },
          {
           "name": "sales",
           "type": "number"
          },
          {
           "name": "quantity",
           "type": "number"
          },
          {
           "name": "discount",
           "type": "integer"
          },
          {
           "name": "profit",
           "type": "number"
          },
          {
           "name": "shipping_cost",
           "type": "number"
          },
          {
           "name": "order_priority",
           "type": "string"
          }
         ],
         "pandas_version": "1.4.0",
         "primaryKey": [
          "index"
         ]
        }
       },
       "total_rows": 4,
       "truncation_type": null
      },
      "text/html": [
       "<div>\n",
       "<style scoped>\n",
       "    .dataframe tbody tr th:only-of-type {\n",
       "        vertical-align: middle;\n",
       "    }\n",
       "\n",
       "    .dataframe tbody tr th {\n",
       "        vertical-align: top;\n",
       "    }\n",
       "\n",
       "    .dataframe thead th {\n",
       "        text-align: right;\n",
       "    }\n",
       "</style>\n",
       "<table border=\"1\" class=\"dataframe\">\n",
       "  <thead>\n",
       "    <tr style=\"text-align: right;\">\n",
       "      <th></th>\n",
       "      <th>row_id</th>\n",
       "      <th>order_id</th>\n",
       "      <th>order_date</th>\n",
       "      <th>ship_date</th>\n",
       "      <th>ship_mode</th>\n",
       "      <th>customer_id</th>\n",
       "      <th>customer_name</th>\n",
       "      <th>segment</th>\n",
       "      <th>city</th>\n",
       "      <th>state</th>\n",
       "      <th>country</th>\n",
       "      <th>postal_code</th>\n",
       "      <th>market</th>\n",
       "      <th>region</th>\n",
       "      <th>product_id</th>\n",
       "      <th>sales</th>\n",
       "      <th>quantity</th>\n",
       "      <th>discount</th>\n",
       "      <th>profit</th>\n",
       "      <th>shipping_cost</th>\n",
       "      <th>order_priority</th>\n",
       "    </tr>\n",
       "  </thead>\n",
       "  <tbody>\n",
       "    <tr>\n",
       "      <th>0</th>\n",
       "      <td>41520</td>\n",
       "      <td>MA-2013-1850</td>\n",
       "      <td>2013-10-14</td>\n",
       "      <td>2013-10-15</td>\n",
       "      <td>First Class</td>\n",
       "      <td>DH-3675</td>\n",
       "      <td>Duane Huffman</td>\n",
       "      <td>Home Office</td>\n",
       "      <td>Antananarivo</td>\n",
       "      <td>Analamanga</td>\n",
       "      <td>Madagascar</td>\n",
       "      <td>NaN</td>\n",
       "      <td>Africa</td>\n",
       "      <td>Africa</td>\n",
       "      <td>TEC-STA-10003330</td>\n",
       "      <td>1519.92</td>\n",
       "      <td>6.0</td>\n",
       "      <td>0</td>\n",
       "      <td>653.4</td>\n",
       "      <td>286.20</td>\n",
       "      <td>Critical</td>\n",
       "    </tr>\n",
       "    <tr>\n",
       "      <th>1</th>\n",
       "      <td>50688</td>\n",
       "      <td>IV-2013-8930</td>\n",
       "      <td>2013-09-04</td>\n",
       "      <td>2013-09-04</td>\n",
       "      <td>Same Day</td>\n",
       "      <td>MJ-7740</td>\n",
       "      <td>Max Jones</td>\n",
       "      <td>Consumer</td>\n",
       "      <td>Abidjan</td>\n",
       "      <td>Lagunes</td>\n",
       "      <td>Cote d'Ivoire</td>\n",
       "      <td>NaN</td>\n",
       "      <td>Africa</td>\n",
       "      <td>Africa</td>\n",
       "      <td>TEC-STA-10003330</td>\n",
       "      <td>506.64</td>\n",
       "      <td>NaN</td>\n",
       "      <td>0</td>\n",
       "      <td>217.8</td>\n",
       "      <td>65.54</td>\n",
       "      <td>Medium</td>\n",
       "    </tr>\n",
       "    <tr>\n",
       "      <th>2</th>\n",
       "      <td>47981</td>\n",
       "      <td>MO-2012-100</td>\n",
       "      <td>2012-08-27</td>\n",
       "      <td>2012-08-31</td>\n",
       "      <td>Standard Class</td>\n",
       "      <td>AJ-960</td>\n",
       "      <td>Astrea Jones</td>\n",
       "      <td>Consumer</td>\n",
       "      <td>Casablanca</td>\n",
       "      <td>Grand Casablanca</td>\n",
       "      <td>Morocco</td>\n",
       "      <td>NaN</td>\n",
       "      <td>Africa</td>\n",
       "      <td>Africa</td>\n",
       "      <td>TEC-STA-10003330</td>\n",
       "      <td>253.32</td>\n",
       "      <td>1.0</td>\n",
       "      <td>0</td>\n",
       "      <td>108.9</td>\n",
       "      <td>39.44</td>\n",
       "      <td>High</td>\n",
       "    </tr>\n",
       "    <tr>\n",
       "      <th>3</th>\n",
       "      <td>50687</td>\n",
       "      <td>IV-2013-8930</td>\n",
       "      <td>2013-09-04</td>\n",
       "      <td>2013-09-04</td>\n",
       "      <td>Same Day</td>\n",
       "      <td>MJ-7740</td>\n",
       "      <td>Max Jones</td>\n",
       "      <td>Consumer</td>\n",
       "      <td>Abidjan</td>\n",
       "      <td>Lagunes</td>\n",
       "      <td>Cote d'Ivoire</td>\n",
       "      <td>NaN</td>\n",
       "      <td>Africa</td>\n",
       "      <td>Africa</td>\n",
       "      <td>TEC-STA-10003330</td>\n",
       "      <td>253.32</td>\n",
       "      <td>1.0</td>\n",
       "      <td>0</td>\n",
       "      <td>108.9</td>\n",
       "      <td>28.51</td>\n",
       "      <td>Medium</td>\n",
       "    </tr>\n",
       "  </tbody>\n",
       "</table>\n",
       "</div>"
      ],
      "text/plain": [
       "   row_id      order_id order_date  ... profit shipping_cost order_priority\n",
       "0   41520  MA-2013-1850 2013-10-14  ...  653.4        286.20       Critical\n",
       "1   50688  IV-2013-8930 2013-09-04  ...  217.8         65.54         Medium\n",
       "2   47981   MO-2012-100 2012-08-27  ...  108.9         39.44           High\n",
       "3   50687  IV-2013-8930 2013-09-04  ...  108.9         28.51         Medium\n",
       "\n",
       "[4 rows x 21 columns]"
      ]
     },
     "execution_count": 70,
     "metadata": {
      "application/com.datacamp.data-table.v2+json": {
       "status": "success"
      }
     },
     "output_type": "execute_result"
    }
   ],
   "source": [
    "-- calculating the IV-2013-8930 order quantity\n",
    "SELECT *\n",
    "FROM orders\n",
    "WHERE product_id = 'TEC-STA-10003330'\n",
    "AND market = 'Africa'\n",
    "AND region = 'Africa';\n",
    "-- it seems that the missing quantity is 2 (253,32 * 2 pcs)"
   ]
  },
  {
   "cell_type": "code",
   "execution_count": 71,
   "id": "ca1a2379-063d-45f7-bdb0-15469aa04a41",
   "metadata": {
    "customType": "sql",
    "dataFrameVariableName": "df3",
    "executionCancelledAt": null,
    "executionTime": 2292,
    "lastExecutedAt": 1755101223066,
    "lastExecutedByKernel": "279a3e93-ca7c-4157-a494-96eb21454f83",
    "lastScheduledRunId": null,
    "lastSuccessfullyExecutedCode": "-- calculating the RS-2011-1760 order quantity\nSELECT *\nFROM orders\nWHERE product_id = 'FUR-ADV-10000571'\nAND market = 'EMEA'\nAND region = 'EMEA';\n-- it seems that the missing quantity is 4 (109,74 * 4 pcs)",
    "outputsMetadata": {
     "0": {
      "height": 550,
      "tableState": {},
      "type": "dataFrame"
     }
    },
    "sqlCellMode": "dataFrame",
    "sqlSource": {
     "integrationId": "89e17161-a224-4a8a-846b-0adc0fe7a4b1",
     "integrationType": "postgresql",
     "type": "integration"
    }
   },
   "outputs": [
    {
     "@datacamp/metadata": {
      "executedQuery": "-- calculating the RS-2011-1760 order quantity\nSELECT *\nFROM orders\nWHERE product_id = 'FUR-ADV-10000571'\nAND market = 'EMEA'\nAND region = 'EMEA';\n-- it seems that the missing quantity is 4 (109,74 * 4 pcs)",
      "executedQueryParameters": []
     },
     "data": {
      "application/com.datacamp.data-table.v2+json": {
       "table": {
        "data": {
         "city": [
          "Borujerd",
          "Severodvinsk",
          "Kaluga",
          "Kirovohrad",
          "Cherkasy"
         ],
         "country": [
          "Iran",
          "Russia",
          "Russia",
          "Ukraine",
          "Ukraine"
         ],
         "customer_id": [
          "DM-3015",
          "TH-11235",
          "DP-3000",
          "SM-10005",
          "CR-2580"
         ],
         "customer_name": [
          "Darrin Martin",
          "Tiffany House",
          "Darren Powers",
          "Sally Matthias",
          "Clay Rozendal"
         ],
         "discount": [
          0,
          0,
          0,
          0,
          0
         ],
         "index": [
          0,
          1,
          2,
          3,
          4
         ],
         "market": [
          "EMEA",
          "EMEA",
          "EMEA",
          "EMEA",
          "EMEA"
         ],
         "order_date": [
          "2014-01-15T00:00:00.000",
          "2011-11-29T00:00:00.000",
          "2014-12-17T00:00:00.000",
          "2011-09-22T00:00:00.000",
          "2013-10-10T00:00:00.000"
         ],
         "order_id": [
          "IR-2014-4150",
          "RS-2011-1760",
          "RS-2014-3790",
          "UP-2011-960",
          "UP-2013-1490"
         ],
         "order_priority": [
          "High",
          "High",
          "Medium",
          "Medium",
          "Medium"
         ],
         "postal_code": [
          null,
          null,
          null,
          null,
          null
         ],
         "product_id": [
          "FUR-ADV-10000571",
          "FUR-ADV-10000571",
          "FUR-ADV-10000571",
          "FUR-ADV-10000571",
          "FUR-ADV-10000571"
         ],
         "profit": [
          280.8,
          140.4,
          70.2,
          35.1,
          35.1
         ],
         "quantity": [
          8,
          null,
          2,
          1,
          1
         ],
         "region": [
          "EMEA",
          "EMEA",
          "EMEA",
          "EMEA",
          "EMEA"
         ],
         "row_id": [
          48560,
          43428,
          43854,
          43305,
          45471
         ],
         "sales": [
          877.92,
          438.96,
          219.48,
          109.74,
          109.74
         ],
         "segment": [
          "Consumer",
          "Corporate",
          "Consumer",
          "Consumer",
          "Home Office"
         ],
         "ship_date": [
          "2014-01-19T00:00:00.000",
          "2011-12-04T00:00:00.000",
          "2014-12-20T00:00:00.000",
          "2011-09-27T00:00:00.000",
          "2013-10-15T00:00:00.000"
         ],
         "ship_mode": [
          "Standard Class",
          "Standard Class",
          "Second Class",
          "Standard Class",
          "Standard Class"
         ],
         "shipping_cost": [
          119.14,
          53.77,
          28.76,
          4.95,
          3.46
         ],
         "state": [
          "Lorestan",
          "Arkhangel'sk",
          "Kaluga",
          "Kirovohrad",
          "Cherkasy"
         ]
        },
        "schema": {
         "fields": [
          {
           "name": "index",
           "type": "integer"
          },
          {
           "name": "row_id",
           "type": "integer"
          },
          {
           "name": "order_id",
           "type": "string"
          },
          {
           "name": "order_date",
           "type": "datetime"
          },
          {
           "name": "ship_date",
           "type": "datetime"
          },
          {
           "name": "ship_mode",
           "type": "string"
          },
          {
           "name": "customer_id",
           "type": "string"
          },
          {
           "name": "customer_name",
           "type": "string"
          },
          {
           "name": "segment",
           "type": "string"
          },
          {
           "name": "city",
           "type": "string"
          },
          {
           "name": "state",
           "type": "string"
          },
          {
           "name": "country",
           "type": "string"
          },
          {
           "name": "postal_code",
           "type": "number"
          },
          {
           "name": "market",
           "type": "string"
          },
          {
           "name": "region",
           "type": "string"
          },
          {
           "name": "product_id",
           "type": "string"
          },
          {
           "name": "sales",
           "type": "number"
          },
          {
           "name": "quantity",
           "type": "number"
          },
          {
           "name": "discount",
           "type": "integer"
          },
          {
           "name": "profit",
           "type": "number"
          },
          {
           "name": "shipping_cost",
           "type": "number"
          },
          {
           "name": "order_priority",
           "type": "string"
          }
         ],
         "pandas_version": "1.4.0",
         "primaryKey": [
          "index"
         ]
        }
       },
       "total_rows": 5,
       "truncation_type": null
      },
      "text/html": [
       "<div>\n",
       "<style scoped>\n",
       "    .dataframe tbody tr th:only-of-type {\n",
       "        vertical-align: middle;\n",
       "    }\n",
       "\n",
       "    .dataframe tbody tr th {\n",
       "        vertical-align: top;\n",
       "    }\n",
       "\n",
       "    .dataframe thead th {\n",
       "        text-align: right;\n",
       "    }\n",
       "</style>\n",
       "<table border=\"1\" class=\"dataframe\">\n",
       "  <thead>\n",
       "    <tr style=\"text-align: right;\">\n",
       "      <th></th>\n",
       "      <th>row_id</th>\n",
       "      <th>order_id</th>\n",
       "      <th>order_date</th>\n",
       "      <th>ship_date</th>\n",
       "      <th>ship_mode</th>\n",
       "      <th>customer_id</th>\n",
       "      <th>customer_name</th>\n",
       "      <th>segment</th>\n",
       "      <th>city</th>\n",
       "      <th>state</th>\n",
       "      <th>country</th>\n",
       "      <th>postal_code</th>\n",
       "      <th>market</th>\n",
       "      <th>region</th>\n",
       "      <th>product_id</th>\n",
       "      <th>sales</th>\n",
       "      <th>quantity</th>\n",
       "      <th>discount</th>\n",
       "      <th>profit</th>\n",
       "      <th>shipping_cost</th>\n",
       "      <th>order_priority</th>\n",
       "    </tr>\n",
       "  </thead>\n",
       "  <tbody>\n",
       "    <tr>\n",
       "      <th>0</th>\n",
       "      <td>48560</td>\n",
       "      <td>IR-2014-4150</td>\n",
       "      <td>2014-01-15</td>\n",
       "      <td>2014-01-19</td>\n",
       "      <td>Standard Class</td>\n",
       "      <td>DM-3015</td>\n",
       "      <td>Darrin Martin</td>\n",
       "      <td>Consumer</td>\n",
       "      <td>Borujerd</td>\n",
       "      <td>Lorestan</td>\n",
       "      <td>Iran</td>\n",
       "      <td>NaN</td>\n",
       "      <td>EMEA</td>\n",
       "      <td>EMEA</td>\n",
       "      <td>FUR-ADV-10000571</td>\n",
       "      <td>877.92</td>\n",
       "      <td>8.0</td>\n",
       "      <td>0</td>\n",
       "      <td>280.8</td>\n",
       "      <td>119.14</td>\n",
       "      <td>High</td>\n",
       "    </tr>\n",
       "    <tr>\n",
       "      <th>1</th>\n",
       "      <td>43428</td>\n",
       "      <td>RS-2011-1760</td>\n",
       "      <td>2011-11-29</td>\n",
       "      <td>2011-12-04</td>\n",
       "      <td>Standard Class</td>\n",
       "      <td>TH-11235</td>\n",
       "      <td>Tiffany House</td>\n",
       "      <td>Corporate</td>\n",
       "      <td>Severodvinsk</td>\n",
       "      <td>Arkhangel'sk</td>\n",
       "      <td>Russia</td>\n",
       "      <td>NaN</td>\n",
       "      <td>EMEA</td>\n",
       "      <td>EMEA</td>\n",
       "      <td>FUR-ADV-10000571</td>\n",
       "      <td>438.96</td>\n",
       "      <td>NaN</td>\n",
       "      <td>0</td>\n",
       "      <td>140.4</td>\n",
       "      <td>53.77</td>\n",
       "      <td>High</td>\n",
       "    </tr>\n",
       "    <tr>\n",
       "      <th>2</th>\n",
       "      <td>43854</td>\n",
       "      <td>RS-2014-3790</td>\n",
       "      <td>2014-12-17</td>\n",
       "      <td>2014-12-20</td>\n",
       "      <td>Second Class</td>\n",
       "      <td>DP-3000</td>\n",
       "      <td>Darren Powers</td>\n",
       "      <td>Consumer</td>\n",
       "      <td>Kaluga</td>\n",
       "      <td>Kaluga</td>\n",
       "      <td>Russia</td>\n",
       "      <td>NaN</td>\n",
       "      <td>EMEA</td>\n",
       "      <td>EMEA</td>\n",
       "      <td>FUR-ADV-10000571</td>\n",
       "      <td>219.48</td>\n",
       "      <td>2.0</td>\n",
       "      <td>0</td>\n",
       "      <td>70.2</td>\n",
       "      <td>28.76</td>\n",
       "      <td>Medium</td>\n",
       "    </tr>\n",
       "    <tr>\n",
       "      <th>3</th>\n",
       "      <td>43305</td>\n",
       "      <td>UP-2011-960</td>\n",
       "      <td>2011-09-22</td>\n",
       "      <td>2011-09-27</td>\n",
       "      <td>Standard Class</td>\n",
       "      <td>SM-10005</td>\n",
       "      <td>Sally Matthias</td>\n",
       "      <td>Consumer</td>\n",
       "      <td>Kirovohrad</td>\n",
       "      <td>Kirovohrad</td>\n",
       "      <td>Ukraine</td>\n",
       "      <td>NaN</td>\n",
       "      <td>EMEA</td>\n",
       "      <td>EMEA</td>\n",
       "      <td>FUR-ADV-10000571</td>\n",
       "      <td>109.74</td>\n",
       "      <td>1.0</td>\n",
       "      <td>0</td>\n",
       "      <td>35.1</td>\n",
       "      <td>4.95</td>\n",
       "      <td>Medium</td>\n",
       "    </tr>\n",
       "    <tr>\n",
       "      <th>4</th>\n",
       "      <td>45471</td>\n",
       "      <td>UP-2013-1490</td>\n",
       "      <td>2013-10-10</td>\n",
       "      <td>2013-10-15</td>\n",
       "      <td>Standard Class</td>\n",
       "      <td>CR-2580</td>\n",
       "      <td>Clay Rozendal</td>\n",
       "      <td>Home Office</td>\n",
       "      <td>Cherkasy</td>\n",
       "      <td>Cherkasy</td>\n",
       "      <td>Ukraine</td>\n",
       "      <td>NaN</td>\n",
       "      <td>EMEA</td>\n",
       "      <td>EMEA</td>\n",
       "      <td>FUR-ADV-10000571</td>\n",
       "      <td>109.74</td>\n",
       "      <td>1.0</td>\n",
       "      <td>0</td>\n",
       "      <td>35.1</td>\n",
       "      <td>3.46</td>\n",
       "      <td>Medium</td>\n",
       "    </tr>\n",
       "  </tbody>\n",
       "</table>\n",
       "</div>"
      ],
      "text/plain": [
       "   row_id      order_id order_date  ... profit shipping_cost order_priority\n",
       "0   48560  IR-2014-4150 2014-01-15  ...  280.8        119.14           High\n",
       "1   43428  RS-2011-1760 2011-11-29  ...  140.4         53.77           High\n",
       "2   43854  RS-2014-3790 2014-12-17  ...   70.2         28.76         Medium\n",
       "3   43305   UP-2011-960 2011-09-22  ...   35.1          4.95         Medium\n",
       "4   45471  UP-2013-1490 2013-10-10  ...   35.1          3.46         Medium\n",
       "\n",
       "[5 rows x 21 columns]"
      ]
     },
     "execution_count": 71,
     "metadata": {
      "application/com.datacamp.data-table.v2+json": {
       "status": "success"
      }
     },
     "output_type": "execute_result"
    }
   ],
   "source": [
    "-- calculating the RS-2011-1760 order quantity\n",
    "SELECT *\n",
    "FROM orders\n",
    "WHERE product_id = 'FUR-ADV-10000571'\n",
    "AND market = 'EMEA'\n",
    "AND region = 'EMEA';\n",
    "-- it seems that the missing quantity is 4 (109,74 * 4 pcs)"
   ]
  },
  {
   "cell_type": "code",
   "execution_count": 72,
   "id": "7fcc9925-4796-4085-9e47-0039328284c0",
   "metadata": {
    "customType": "sql",
    "dataFrameVariableName": "df4",
    "executionCancelledAt": null,
    "executionTime": 1228,
    "lastExecutedAt": 1755101224294,
    "lastExecutedByKernel": "279a3e93-ca7c-4157-a494-96eb21454f83",
    "lastScheduledRunId": null,
    "lastSuccessfullyExecutedCode": "-- calculating the CA-2011-154599 order quantity\nSELECT *\nFROM orders\nWHERE product_id = 'FUR-BO-10001337'\nAND market = 'US'\nAND region = 'West';\n-- it seems that the missing quantity is 3 (102.833 * 3 pcs)",
    "outputsMetadata": {
     "0": {
      "height": 550,
      "tableState": {
       "customFilter": {
        "const": {
         "type": "boolean",
         "valid": true,
         "value": true
        },
        "id": "a5d2c491-78b0-4b25-be01-e2590366bb52",
        "nodeType": "const"
       }
      },
      "type": "dataFrame"
     }
    },
    "sqlCellMode": "dataFrame",
    "sqlSource": {
     "integrationId": "89e17161-a224-4a8a-846b-0adc0fe7a4b1",
     "integrationType": "postgresql",
     "type": "integration"
    }
   },
   "outputs": [
    {
     "@datacamp/metadata": {
      "executedQuery": "-- calculating the CA-2011-154599 order quantity\nSELECT *\nFROM orders\nWHERE product_id = 'FUR-BO-10001337'\nAND market = 'US'\nAND region = 'West';\n-- it seems that the missing quantity is 3 (102.833 * 3 pcs)",
      "executedQueryParameters": []
     },
     "data": {
      "application/com.datacamp.data-table.v2+json": {
       "table": {
        "data": {
         "city": [
          "Los Angeles",
          "Los Angeles",
          "Morgan Hill",
          "Redondo Beach",
          "San Francisco",
          "San Jose"
         ],
         "country": [
          "United States",
          "United States",
          "United States",
          "United States",
          "United States",
          "United States"
         ],
         "customer_id": [
          "TS-21370",
          "MT-18070",
          "RD-19720",
          "KN-16450",
          "GA-14725",
          "JE-15745"
         ],
         "customer_name": [
          "Todd Sumrall",
          "Michelle Tran",
          "Roger Demir",
          "Kean Nguyen",
          "Guy Armstrong",
          "Joel Eaton"
         ],
         "discount": [
          0.15,
          0.15,
          0.15,
          0.15,
          0.15,
          0.15
         ],
         "index": [
          0,
          1,
          2,
          3,
          4,
          5
         ],
         "market": [
          "US",
          "US",
          "US",
          "US",
          "US",
          "US"
         ],
         "order_date": [
          "2011-10-28T00:00:00.000",
          "2014-06-11T00:00:00.000",
          "2013-12-04T00:00:00.000",
          "2011-04-12T00:00:00.000",
          "2011-03-30T00:00:00.000",
          "2014-04-17T00:00:00.000"
         ],
         "order_id": [
          "CA-2011-101931",
          "CA-2014-140963",
          "CA-2013-149762",
          "CA-2011-154599",
          "CA-2011-131247",
          "CA-2014-108070"
         ],
         "order_priority": [
          "High",
          "High",
          "High",
          "Medium",
          "Medium",
          "High"
         ],
         "postal_code": [
          90049,
          90045,
          95037,
          90278,
          94110,
          95123
         ],
         "product_id": [
          "FUR-BO-10001337",
          "FUR-BO-10001337",
          "FUR-BO-10001337",
          "FUR-BO-10001337",
          "FUR-BO-10001337",
          "FUR-BO-10001337"
         ],
         "profit": [
          -36.294,
          -30.245,
          -12.098,
          -18.147,
          -12.098,
          -6.049
         ],
         "quantity": [
          6,
          5,
          2,
          null,
          2,
          1
         ],
         "region": [
          "West",
          "West",
          "West",
          "West",
          "West",
          "West"
         ],
         "row_id": [
          35142,
          31782,
          39208,
          34093,
          37435,
          33843
         ],
         "sales": [
          616.998,
          514.165,
          205.666,
          308.499,
          205.666,
          102.833
         ],
         "segment": [
          "Corporate",
          "Home Office",
          "Consumer",
          "Corporate",
          "Consumer",
          "Consumer"
         ],
         "ship_date": [
          "2011-10-31T00:00:00.000",
          "2014-06-14T00:00:00.000",
          "2013-12-08T00:00:00.000",
          "2011-04-17T00:00:00.000",
          "2011-04-04T00:00:00.000",
          "2014-04-21T00:00:00.000"
         ],
         "ship_mode": [
          "First Class",
          "First Class",
          "Standard Class",
          "Standard Class",
          "Standard Class",
          "Standard Class"
         ],
         "shipping_cost": [
          93.48,
          74.4,
          34.5,
          24.38,
          17.41,
          6.94
         ],
         "state": [
          "California",
          "California",
          "California",
          "California",
          "California",
          "California"
         ]
        },
        "schema": {
         "fields": [
          {
           "name": "index",
           "type": "integer"
          },
          {
           "name": "row_id",
           "type": "integer"
          },
          {
           "name": "order_id",
           "type": "string"
          },
          {
           "name": "order_date",
           "type": "datetime"
          },
          {
           "name": "ship_date",
           "type": "datetime"
          },
          {
           "name": "ship_mode",
           "type": "string"
          },
          {
           "name": "customer_id",
           "type": "string"
          },
          {
           "name": "customer_name",
           "type": "string"
          },
          {
           "name": "segment",
           "type": "string"
          },
          {
           "name": "city",
           "type": "string"
          },
          {
           "name": "state",
           "type": "string"
          },
          {
           "name": "country",
           "type": "string"
          },
          {
           "name": "postal_code",
           "type": "integer"
          },
          {
           "name": "market",
           "type": "string"
          },
          {
           "name": "region",
           "type": "string"
          },
          {
           "name": "product_id",
           "type": "string"
          },
          {
           "name": "sales",
           "type": "number"
          },
          {
           "name": "quantity",
           "type": "number"
          },
          {
           "name": "discount",
           "type": "number"
          },
          {
           "name": "profit",
           "type": "number"
          },
          {
           "name": "shipping_cost",
           "type": "number"
          },
          {
           "name": "order_priority",
           "type": "string"
          }
         ],
         "pandas_version": "1.4.0",
         "primaryKey": [
          "index"
         ]
        }
       },
       "total_rows": 6,
       "truncation_type": null
      },
      "text/html": [
       "<div>\n",
       "<style scoped>\n",
       "    .dataframe tbody tr th:only-of-type {\n",
       "        vertical-align: middle;\n",
       "    }\n",
       "\n",
       "    .dataframe tbody tr th {\n",
       "        vertical-align: top;\n",
       "    }\n",
       "\n",
       "    .dataframe thead th {\n",
       "        text-align: right;\n",
       "    }\n",
       "</style>\n",
       "<table border=\"1\" class=\"dataframe\">\n",
       "  <thead>\n",
       "    <tr style=\"text-align: right;\">\n",
       "      <th></th>\n",
       "      <th>row_id</th>\n",
       "      <th>order_id</th>\n",
       "      <th>order_date</th>\n",
       "      <th>ship_date</th>\n",
       "      <th>ship_mode</th>\n",
       "      <th>customer_id</th>\n",
       "      <th>customer_name</th>\n",
       "      <th>segment</th>\n",
       "      <th>city</th>\n",
       "      <th>state</th>\n",
       "      <th>country</th>\n",
       "      <th>postal_code</th>\n",
       "      <th>market</th>\n",
       "      <th>region</th>\n",
       "      <th>product_id</th>\n",
       "      <th>sales</th>\n",
       "      <th>quantity</th>\n",
       "      <th>discount</th>\n",
       "      <th>profit</th>\n",
       "      <th>shipping_cost</th>\n",
       "      <th>order_priority</th>\n",
       "    </tr>\n",
       "  </thead>\n",
       "  <tbody>\n",
       "    <tr>\n",
       "      <th>0</th>\n",
       "      <td>35142</td>\n",
       "      <td>CA-2011-101931</td>\n",
       "      <td>2011-10-28</td>\n",
       "      <td>2011-10-31</td>\n",
       "      <td>First Class</td>\n",
       "      <td>TS-21370</td>\n",
       "      <td>Todd Sumrall</td>\n",
       "      <td>Corporate</td>\n",
       "      <td>Los Angeles</td>\n",
       "      <td>California</td>\n",
       "      <td>United States</td>\n",
       "      <td>90049</td>\n",
       "      <td>US</td>\n",
       "      <td>West</td>\n",
       "      <td>FUR-BO-10001337</td>\n",
       "      <td>616.998</td>\n",
       "      <td>6.0</td>\n",
       "      <td>0.15</td>\n",
       "      <td>-36.294</td>\n",
       "      <td>93.48</td>\n",
       "      <td>High</td>\n",
       "    </tr>\n",
       "    <tr>\n",
       "      <th>1</th>\n",
       "      <td>31782</td>\n",
       "      <td>CA-2014-140963</td>\n",
       "      <td>2014-06-11</td>\n",
       "      <td>2014-06-14</td>\n",
       "      <td>First Class</td>\n",
       "      <td>MT-18070</td>\n",
       "      <td>Michelle Tran</td>\n",
       "      <td>Home Office</td>\n",
       "      <td>Los Angeles</td>\n",
       "      <td>California</td>\n",
       "      <td>United States</td>\n",
       "      <td>90045</td>\n",
       "      <td>US</td>\n",
       "      <td>West</td>\n",
       "      <td>FUR-BO-10001337</td>\n",
       "      <td>514.165</td>\n",
       "      <td>5.0</td>\n",
       "      <td>0.15</td>\n",
       "      <td>-30.245</td>\n",
       "      <td>74.40</td>\n",
       "      <td>High</td>\n",
       "    </tr>\n",
       "    <tr>\n",
       "      <th>2</th>\n",
       "      <td>39208</td>\n",
       "      <td>CA-2013-149762</td>\n",
       "      <td>2013-12-04</td>\n",
       "      <td>2013-12-08</td>\n",
       "      <td>Standard Class</td>\n",
       "      <td>RD-19720</td>\n",
       "      <td>Roger Demir</td>\n",
       "      <td>Consumer</td>\n",
       "      <td>Morgan Hill</td>\n",
       "      <td>California</td>\n",
       "      <td>United States</td>\n",
       "      <td>95037</td>\n",
       "      <td>US</td>\n",
       "      <td>West</td>\n",
       "      <td>FUR-BO-10001337</td>\n",
       "      <td>205.666</td>\n",
       "      <td>2.0</td>\n",
       "      <td>0.15</td>\n",
       "      <td>-12.098</td>\n",
       "      <td>34.50</td>\n",
       "      <td>High</td>\n",
       "    </tr>\n",
       "    <tr>\n",
       "      <th>3</th>\n",
       "      <td>34093</td>\n",
       "      <td>CA-2011-154599</td>\n",
       "      <td>2011-04-12</td>\n",
       "      <td>2011-04-17</td>\n",
       "      <td>Standard Class</td>\n",
       "      <td>KN-16450</td>\n",
       "      <td>Kean Nguyen</td>\n",
       "      <td>Corporate</td>\n",
       "      <td>Redondo Beach</td>\n",
       "      <td>California</td>\n",
       "      <td>United States</td>\n",
       "      <td>90278</td>\n",
       "      <td>US</td>\n",
       "      <td>West</td>\n",
       "      <td>FUR-BO-10001337</td>\n",
       "      <td>308.499</td>\n",
       "      <td>NaN</td>\n",
       "      <td>0.15</td>\n",
       "      <td>-18.147</td>\n",
       "      <td>24.38</td>\n",
       "      <td>Medium</td>\n",
       "    </tr>\n",
       "    <tr>\n",
       "      <th>4</th>\n",
       "      <td>37435</td>\n",
       "      <td>CA-2011-131247</td>\n",
       "      <td>2011-03-30</td>\n",
       "      <td>2011-04-04</td>\n",
       "      <td>Standard Class</td>\n",
       "      <td>GA-14725</td>\n",
       "      <td>Guy Armstrong</td>\n",
       "      <td>Consumer</td>\n",
       "      <td>San Francisco</td>\n",
       "      <td>California</td>\n",
       "      <td>United States</td>\n",
       "      <td>94110</td>\n",
       "      <td>US</td>\n",
       "      <td>West</td>\n",
       "      <td>FUR-BO-10001337</td>\n",
       "      <td>205.666</td>\n",
       "      <td>2.0</td>\n",
       "      <td>0.15</td>\n",
       "      <td>-12.098</td>\n",
       "      <td>17.41</td>\n",
       "      <td>Medium</td>\n",
       "    </tr>\n",
       "    <tr>\n",
       "      <th>5</th>\n",
       "      <td>33843</td>\n",
       "      <td>CA-2014-108070</td>\n",
       "      <td>2014-04-17</td>\n",
       "      <td>2014-04-21</td>\n",
       "      <td>Standard Class</td>\n",
       "      <td>JE-15745</td>\n",
       "      <td>Joel Eaton</td>\n",
       "      <td>Consumer</td>\n",
       "      <td>San Jose</td>\n",
       "      <td>California</td>\n",
       "      <td>United States</td>\n",
       "      <td>95123</td>\n",
       "      <td>US</td>\n",
       "      <td>West</td>\n",
       "      <td>FUR-BO-10001337</td>\n",
       "      <td>102.833</td>\n",
       "      <td>1.0</td>\n",
       "      <td>0.15</td>\n",
       "      <td>-6.049</td>\n",
       "      <td>6.94</td>\n",
       "      <td>High</td>\n",
       "    </tr>\n",
       "  </tbody>\n",
       "</table>\n",
       "</div>"
      ],
      "text/plain": [
       "   row_id        order_id order_date  ...  profit shipping_cost order_priority\n",
       "0   35142  CA-2011-101931 2011-10-28  ... -36.294         93.48           High\n",
       "1   31782  CA-2014-140963 2014-06-11  ... -30.245         74.40           High\n",
       "2   39208  CA-2013-149762 2013-12-04  ... -12.098         34.50           High\n",
       "3   34093  CA-2011-154599 2011-04-12  ... -18.147         24.38         Medium\n",
       "4   37435  CA-2011-131247 2011-03-30  ... -12.098         17.41         Medium\n",
       "5   33843  CA-2014-108070 2014-04-17  ...  -6.049          6.94           High\n",
       "\n",
       "[6 rows x 21 columns]"
      ]
     },
     "execution_count": 72,
     "metadata": {
      "application/com.datacamp.data-table.v2+json": {
       "status": "success"
      }
     },
     "output_type": "execute_result"
    }
   ],
   "source": [
    "-- calculating the CA-2011-154599 order quantity\n",
    "SELECT *\n",
    "FROM orders\n",
    "WHERE product_id = 'FUR-BO-10001337'\n",
    "AND market = 'US'\n",
    "AND region = 'West';\n",
    "-- it seems that the missing quantity is 3 (102.833 * 3 pcs)"
   ]
  },
  {
   "cell_type": "code",
   "execution_count": 73,
   "id": "395c3fe5-94c6-48cb-b550-1209a703326e",
   "metadata": {
    "customType": "sql",
    "dataFrameVariableName": "df5",
    "executionCancelledAt": null,
    "executionTime": 1153,
    "lastExecutedAt": 1755101225447,
    "lastExecutedByKernel": "279a3e93-ca7c-4157-a494-96eb21454f83",
    "lastScheduledRunId": null,
    "lastSuccessfullyExecutedCode": "-- calculating the AG-2014-9060 order quantity\nSELECT *\nFROM orders\nWHERE product_id = 'TEC-STA-10004542'\nAND market = 'Africa'\nAND region = 'Africa';\n-- it seems that the missing quantity is 2 (80.16 * 2 pcs)",
    "outputsMetadata": {
     "0": {
      "height": 550,
      "tableState": {
       "customFilter": {
        "const": {
         "type": "boolean",
         "valid": true,
         "value": true
        },
        "id": "a5d2c491-78b0-4b25-be01-e2590366bb52",
        "nodeType": "const"
       }
      },
      "type": "dataFrame"
     }
    },
    "sqlCellMode": "dataFrame",
    "sqlSource": {
     "integrationId": "89e17161-a224-4a8a-846b-0adc0fe7a4b1",
     "integrationType": "postgresql",
     "type": "integration"
    }
   },
   "outputs": [
    {
     "@datacamp/metadata": {
      "executedQuery": "-- calculating the AG-2014-9060 order quantity\nSELECT *\nFROM orders\nWHERE product_id = 'TEC-STA-10004542'\nAND market = 'Africa'\nAND region = 'Africa';\n-- it seems that the missing quantity is 2 (80.16 * 2 pcs)",
      "executedQueryParameters": []
     },
     "data": {
      "application/com.datacamp.data-table.v2+json": {
       "table": {
        "data": {
         "city": [
          "Accra",
          "Algiers",
          "Beira"
         ],
         "country": [
          "Ghana",
          "Algeria",
          "Mozambique"
         ],
         "customer_id": [
          "DW-3480",
          "YS-11880",
          "EH-4005"
         ],
         "customer_name": [
          "Dianna Wilson",
          "Yana Sorensen",
          "Erica Hernandez"
         ],
         "discount": [
          0,
          0,
          0
         ],
         "index": [
          0,
          1,
          2
         ],
         "market": [
          "Africa",
          "Africa",
          "Africa"
         ],
         "order_date": [
          "2014-07-10T00:00:00.000",
          "2014-12-27T00:00:00.000",
          "2013-04-19T00:00:00.000"
         ],
         "order_id": [
          "GH-2014-4170",
          "AG-2014-9060",
          "MZ-2013-3540"
         ],
         "order_priority": [
          "Medium",
          "Medium",
          "Medium"
         ],
         "postal_code": [
          null,
          null,
          null
         ],
         "product_id": [
          "TEC-STA-10004542",
          "TEC-STA-10004542",
          "TEC-STA-10004542"
         ],
         "profit": [
          84,
          24,
          12
         ],
         "quantity": [
          14,
          null,
          2
         ],
         "region": [
          "Africa",
          "Africa",
          "Africa"
         ],
         "row_id": [
          51089,
          46824,
          50014
         ],
         "sales": [
          561.12,
          160.32,
          80.16
         ],
         "segment": [
          "Home Office",
          "Corporate",
          "Home Office"
         ],
         "ship_date": [
          "2014-07-13T00:00:00.000",
          "2015-01-01T00:00:00.000",
          "2013-04-23T00:00:00.000"
         ],
         "ship_mode": [
          "First Class",
          "Standard Class",
          "Standard Class"
         ],
         "shipping_cost": [
          117.4,
          12.66,
          4.68
         ],
         "state": [
          "Greater Accra",
          "Alger",
          "Sofala"
         ]
        },
        "schema": {
         "fields": [
          {
           "name": "index",
           "type": "integer"
          },
          {
           "name": "row_id",
           "type": "integer"
          },
          {
           "name": "order_id",
           "type": "string"
          },
          {
           "name": "order_date",
           "type": "datetime"
          },
          {
           "name": "ship_date",
           "type": "datetime"
          },
          {
           "name": "ship_mode",
           "type": "string"
          },
          {
           "name": "customer_id",
           "type": "string"
          },
          {
           "name": "customer_name",
           "type": "string"
          },
          {
           "name": "segment",
           "type": "string"
          },
          {
           "name": "city",
           "type": "string"
          },
          {
           "name": "state",
           "type": "string"
          },
          {
           "name": "country",
           "type": "string"
          },
          {
           "name": "postal_code",
           "type": "number"
          },
          {
           "name": "market",
           "type": "string"
          },
          {
           "name": "region",
           "type": "string"
          },
          {
           "name": "product_id",
           "type": "string"
          },
          {
           "name": "sales",
           "type": "number"
          },
          {
           "name": "quantity",
           "type": "number"
          },
          {
           "name": "discount",
           "type": "integer"
          },
          {
           "name": "profit",
           "type": "integer"
          },
          {
           "name": "shipping_cost",
           "type": "number"
          },
          {
           "name": "order_priority",
           "type": "string"
          }
         ],
         "pandas_version": "1.4.0",
         "primaryKey": [
          "index"
         ]
        }
       },
       "total_rows": 3,
       "truncation_type": null
      },
      "text/html": [
       "<div>\n",
       "<style scoped>\n",
       "    .dataframe tbody tr th:only-of-type {\n",
       "        vertical-align: middle;\n",
       "    }\n",
       "\n",
       "    .dataframe tbody tr th {\n",
       "        vertical-align: top;\n",
       "    }\n",
       "\n",
       "    .dataframe thead th {\n",
       "        text-align: right;\n",
       "    }\n",
       "</style>\n",
       "<table border=\"1\" class=\"dataframe\">\n",
       "  <thead>\n",
       "    <tr style=\"text-align: right;\">\n",
       "      <th></th>\n",
       "      <th>row_id</th>\n",
       "      <th>order_id</th>\n",
       "      <th>order_date</th>\n",
       "      <th>ship_date</th>\n",
       "      <th>ship_mode</th>\n",
       "      <th>customer_id</th>\n",
       "      <th>customer_name</th>\n",
       "      <th>segment</th>\n",
       "      <th>city</th>\n",
       "      <th>state</th>\n",
       "      <th>country</th>\n",
       "      <th>postal_code</th>\n",
       "      <th>market</th>\n",
       "      <th>region</th>\n",
       "      <th>product_id</th>\n",
       "      <th>sales</th>\n",
       "      <th>quantity</th>\n",
       "      <th>discount</th>\n",
       "      <th>profit</th>\n",
       "      <th>shipping_cost</th>\n",
       "      <th>order_priority</th>\n",
       "    </tr>\n",
       "  </thead>\n",
       "  <tbody>\n",
       "    <tr>\n",
       "      <th>0</th>\n",
       "      <td>51089</td>\n",
       "      <td>GH-2014-4170</td>\n",
       "      <td>2014-07-10</td>\n",
       "      <td>2014-07-13</td>\n",
       "      <td>First Class</td>\n",
       "      <td>DW-3480</td>\n",
       "      <td>Dianna Wilson</td>\n",
       "      <td>Home Office</td>\n",
       "      <td>Accra</td>\n",
       "      <td>Greater Accra</td>\n",
       "      <td>Ghana</td>\n",
       "      <td>NaN</td>\n",
       "      <td>Africa</td>\n",
       "      <td>Africa</td>\n",
       "      <td>TEC-STA-10004542</td>\n",
       "      <td>561.12</td>\n",
       "      <td>14.0</td>\n",
       "      <td>0</td>\n",
       "      <td>84</td>\n",
       "      <td>117.40</td>\n",
       "      <td>Medium</td>\n",
       "    </tr>\n",
       "    <tr>\n",
       "      <th>1</th>\n",
       "      <td>46824</td>\n",
       "      <td>AG-2014-9060</td>\n",
       "      <td>2014-12-27</td>\n",
       "      <td>2015-01-01</td>\n",
       "      <td>Standard Class</td>\n",
       "      <td>YS-11880</td>\n",
       "      <td>Yana Sorensen</td>\n",
       "      <td>Corporate</td>\n",
       "      <td>Algiers</td>\n",
       "      <td>Alger</td>\n",
       "      <td>Algeria</td>\n",
       "      <td>NaN</td>\n",
       "      <td>Africa</td>\n",
       "      <td>Africa</td>\n",
       "      <td>TEC-STA-10004542</td>\n",
       "      <td>160.32</td>\n",
       "      <td>NaN</td>\n",
       "      <td>0</td>\n",
       "      <td>24</td>\n",
       "      <td>12.66</td>\n",
       "      <td>Medium</td>\n",
       "    </tr>\n",
       "    <tr>\n",
       "      <th>2</th>\n",
       "      <td>50014</td>\n",
       "      <td>MZ-2013-3540</td>\n",
       "      <td>2013-04-19</td>\n",
       "      <td>2013-04-23</td>\n",
       "      <td>Standard Class</td>\n",
       "      <td>EH-4005</td>\n",
       "      <td>Erica Hernandez</td>\n",
       "      <td>Home Office</td>\n",
       "      <td>Beira</td>\n",
       "      <td>Sofala</td>\n",
       "      <td>Mozambique</td>\n",
       "      <td>NaN</td>\n",
       "      <td>Africa</td>\n",
       "      <td>Africa</td>\n",
       "      <td>TEC-STA-10004542</td>\n",
       "      <td>80.16</td>\n",
       "      <td>2.0</td>\n",
       "      <td>0</td>\n",
       "      <td>12</td>\n",
       "      <td>4.68</td>\n",
       "      <td>Medium</td>\n",
       "    </tr>\n",
       "  </tbody>\n",
       "</table>\n",
       "</div>"
      ],
      "text/plain": [
       "   row_id      order_id order_date  ... profit shipping_cost order_priority\n",
       "0   51089  GH-2014-4170 2014-07-10  ...     84        117.40         Medium\n",
       "1   46824  AG-2014-9060 2014-12-27  ...     24         12.66         Medium\n",
       "2   50014  MZ-2013-3540 2013-04-19  ...     12          4.68         Medium\n",
       "\n",
       "[3 rows x 21 columns]"
      ]
     },
     "execution_count": 73,
     "metadata": {
      "application/com.datacamp.data-table.v2+json": {
       "status": "success"
      }
     },
     "output_type": "execute_result"
    }
   ],
   "source": [
    "-- calculating the AG-2014-9060 order quantity\n",
    "SELECT *\n",
    "FROM orders\n",
    "WHERE product_id = 'TEC-STA-10004542'\n",
    "AND market = 'Africa'\n",
    "AND region = 'Africa';\n",
    "-- it seems that the missing quantity is 2 (80.16 * 2 pcs)"
   ]
  },
  {
   "cell_type": "code",
   "execution_count": 74,
   "id": "e6323eed-811a-4edc-b8df-d083bef9b780",
   "metadata": {
    "customType": "sql",
    "dataFrameVariableName": "df6",
    "executionCancelledAt": null,
    "executionTime": 1130,
    "lastExecutedAt": 1755101226579,
    "lastExecutedByKernel": "279a3e93-ca7c-4157-a494-96eb21454f83",
    "lastScheduledRunId": null,
    "lastSuccessfullyExecutedCode": "-- calculating the RS-2011-3610 order quantity\nSELECT *\nFROM orders\nWHERE product_id = 'FUR-ADV-10004395'\nAND market = 'EMEA'\nAND region = 'EMEA';\n-- it seems that the missing quantity is 2 (42.06 * 2 pcs)",
    "outputsMetadata": {
     "0": {
      "height": 550,
      "tableState": {
       "customFilter": {
        "const": {
         "type": "boolean",
         "valid": true,
         "value": true
        },
        "id": "a5d2c491-78b0-4b25-be01-e2590366bb52",
        "nodeType": "const"
       }
      },
      "type": "dataFrame"
     }
    },
    "sqlCellMode": "dataFrame",
    "sqlSource": {
     "integrationId": "89e17161-a224-4a8a-846b-0adc0fe7a4b1",
     "integrationType": "postgresql",
     "type": "integration"
    }
   },
   "outputs": [
    {
     "@datacamp/metadata": {
      "executedQuery": "-- calculating the RS-2011-3610 order quantity\nSELECT *\nFROM orders\nWHERE product_id = 'FUR-ADV-10004395'\nAND market = 'EMEA'\nAND region = 'EMEA';\n-- it seems that the missing quantity is 2 (42.06 * 2 pcs)",
      "executedQueryParameters": []
     },
     "data": {
      "application/com.datacamp.data-table.v2+json": {
       "table": {
        "data": {
         "city": [
          "Usol'ye-Sibirskoye",
          "Istanbul",
          "Vanadzor",
          "Panevezys",
          "Katowice",
          "Uskudar",
          "Ardabil",
          "Istanbul"
         ],
         "country": [
          "Russia",
          "Turkey",
          "Armenia",
          "Lithuania",
          "Poland",
          "Turkey",
          "Iran",
          "Turkey"
         ],
         "customer_id": [
          "ND-8460",
          "HA-4905",
          "HM-4980",
          "JC-5385",
          "SC-10680",
          "AZ-750",
          "JL-5130",
          "EM-3825"
         ],
         "customer_name": [
          "Neil Ducich",
          "Helen Abelman",
          "Henry MacAllister",
          "Jenna Caffey",
          "Steve Carroll",
          "Annie Zypern",
          "Jack Lebron",
          "Elizabeth Moffitt"
         ],
         "discount": [
          0,
          0.6,
          0,
          0.7,
          0,
          0.6,
          0,
          0.6
         ],
         "index": [
          0,
          1,
          2,
          3,
          4,
          5,
          6,
          7
         ],
         "market": [
          "EMEA",
          "EMEA",
          "EMEA",
          "EMEA",
          "EMEA",
          "EMEA",
          "EMEA",
          "EMEA"
         ],
         "order_date": [
          "2011-12-08T00:00:00.000",
          "2014-12-18T00:00:00.000",
          "2011-12-14T00:00:00.000",
          "2014-07-03T00:00:00.000",
          "2013-01-20T00:00:00.000",
          "2014-05-08T00:00:00.000",
          "2011-07-29T00:00:00.000",
          "2013-03-09T00:00:00.000"
         ],
         "order_id": [
          "RS-2011-3610",
          "TU-2014-9100",
          "AM-2011-7110",
          "LH-2014-4130",
          "PL-2013-2260",
          "TU-2014-40",
          "IR-2011-1690",
          "TU-2013-6430"
         ],
         "order_priority": [
          "Medium",
          "Medium",
          "High",
          "High",
          "Medium",
          "Medium",
          "Medium",
          "High"
         ],
         "postal_code": [
          null,
          null,
          null,
          null,
          null,
          null,
          null,
          null
         ],
         "product_id": [
          "FUR-ADV-10004395",
          "FUR-ADV-10004395",
          "FUR-ADV-10004395",
          "FUR-ADV-10004395",
          "FUR-ADV-10004395",
          "FUR-ADV-10004395",
          "FUR-ADV-10004395",
          "FUR-ADV-10004395"
         ],
         "profit": [
          42.06,
          -58.884,
          21.03,
          -16.824,
          21.03,
          -8.412,
          21.03,
          -4.206
         ],
         "quantity": [
          null,
          14,
          1,
          2,
          1,
          2,
          1,
          1
         ],
         "region": [
          "EMEA",
          "EMEA",
          "EMEA",
          "EMEA",
          "EMEA",
          "EMEA",
          "EMEA",
          "EMEA"
         ],
         "row_id": [
          43722,
          42367,
          42026,
          50845,
          49736,
          42002,
          51052,
          47050
         ],
         "sales": [
          84.12,
          235.536,
          42.06,
          25.236,
          42.06,
          33.648,
          42.06,
          16.824
         ],
         "segment": [
          "Corporate",
          "Consumer",
          "Consumer",
          "Consumer",
          "Home Office",
          "Consumer",
          "Consumer",
          "Corporate"
         ],
         "ship_date": [
          "2011-12-10T00:00:00.000",
          "2014-12-22T00:00:00.000",
          "2011-12-19T00:00:00.000",
          "2014-07-07T00:00:00.000",
          "2013-01-24T00:00:00.000",
          "2014-05-13T00:00:00.000",
          "2011-08-03T00:00:00.000",
          "2013-03-12T00:00:00.000"
         ],
         "ship_mode": [
          "First Class",
          "Standard Class",
          "Standard Class",
          "Standard Class",
          "Second Class",
          "Standard Class",
          "Standard Class",
          "Second Class"
         ],
         "shipping_cost": [
          11.83,
          7.34,
          4.7,
          3.55,
          3.34,
          2.5,
          1.74,
          0.37
         ],
         "state": [
          "Irkutsk",
          "Istanbul",
          "Lori",
          "Panevezys",
          "Silesia",
          "Istanbul",
          "Ardabil",
          "Istanbul"
         ]
        },
        "schema": {
         "fields": [
          {
           "name": "index",
           "type": "integer"
          },
          {
           "name": "row_id",
           "type": "integer"
          },
          {
           "name": "order_id",
           "type": "string"
          },
          {
           "name": "order_date",
           "type": "datetime"
          },
          {
           "name": "ship_date",
           "type": "datetime"
          },
          {
           "name": "ship_mode",
           "type": "string"
          },
          {
           "name": "customer_id",
           "type": "string"
          },
          {
           "name": "customer_name",
           "type": "string"
          },
          {
           "name": "segment",
           "type": "string"
          },
          {
           "name": "city",
           "type": "string"
          },
          {
           "name": "state",
           "type": "string"
          },
          {
           "name": "country",
           "type": "string"
          },
          {
           "name": "postal_code",
           "type": "number"
          },
          {
           "name": "market",
           "type": "string"
          },
          {
           "name": "region",
           "type": "string"
          },
          {
           "name": "product_id",
           "type": "string"
          },
          {
           "name": "sales",
           "type": "number"
          },
          {
           "name": "quantity",
           "type": "number"
          },
          {
           "name": "discount",
           "type": "number"
          },
          {
           "name": "profit",
           "type": "number"
          },
          {
           "name": "shipping_cost",
           "type": "number"
          },
          {
           "name": "order_priority",
           "type": "string"
          }
         ],
         "pandas_version": "1.4.0",
         "primaryKey": [
          "index"
         ]
        }
       },
       "total_rows": 8,
       "truncation_type": null
      },
      "text/html": [
       "<div>\n",
       "<style scoped>\n",
       "    .dataframe tbody tr th:only-of-type {\n",
       "        vertical-align: middle;\n",
       "    }\n",
       "\n",
       "    .dataframe tbody tr th {\n",
       "        vertical-align: top;\n",
       "    }\n",
       "\n",
       "    .dataframe thead th {\n",
       "        text-align: right;\n",
       "    }\n",
       "</style>\n",
       "<table border=\"1\" class=\"dataframe\">\n",
       "  <thead>\n",
       "    <tr style=\"text-align: right;\">\n",
       "      <th></th>\n",
       "      <th>row_id</th>\n",
       "      <th>order_id</th>\n",
       "      <th>order_date</th>\n",
       "      <th>ship_date</th>\n",
       "      <th>ship_mode</th>\n",
       "      <th>customer_id</th>\n",
       "      <th>customer_name</th>\n",
       "      <th>segment</th>\n",
       "      <th>city</th>\n",
       "      <th>state</th>\n",
       "      <th>country</th>\n",
       "      <th>postal_code</th>\n",
       "      <th>market</th>\n",
       "      <th>region</th>\n",
       "      <th>product_id</th>\n",
       "      <th>sales</th>\n",
       "      <th>quantity</th>\n",
       "      <th>discount</th>\n",
       "      <th>profit</th>\n",
       "      <th>shipping_cost</th>\n",
       "      <th>order_priority</th>\n",
       "    </tr>\n",
       "  </thead>\n",
       "  <tbody>\n",
       "    <tr>\n",
       "      <th>0</th>\n",
       "      <td>43722</td>\n",
       "      <td>RS-2011-3610</td>\n",
       "      <td>2011-12-08</td>\n",
       "      <td>2011-12-10</td>\n",
       "      <td>First Class</td>\n",
       "      <td>ND-8460</td>\n",
       "      <td>Neil Ducich</td>\n",
       "      <td>Corporate</td>\n",
       "      <td>Usol'ye-Sibirskoye</td>\n",
       "      <td>Irkutsk</td>\n",
       "      <td>Russia</td>\n",
       "      <td>NaN</td>\n",
       "      <td>EMEA</td>\n",
       "      <td>EMEA</td>\n",
       "      <td>FUR-ADV-10004395</td>\n",
       "      <td>84.120</td>\n",
       "      <td>NaN</td>\n",
       "      <td>0.0</td>\n",
       "      <td>42.060</td>\n",
       "      <td>11.83</td>\n",
       "      <td>Medium</td>\n",
       "    </tr>\n",
       "    <tr>\n",
       "      <th>1</th>\n",
       "      <td>42367</td>\n",
       "      <td>TU-2014-9100</td>\n",
       "      <td>2014-12-18</td>\n",
       "      <td>2014-12-22</td>\n",
       "      <td>Standard Class</td>\n",
       "      <td>HA-4905</td>\n",
       "      <td>Helen Abelman</td>\n",
       "      <td>Consumer</td>\n",
       "      <td>Istanbul</td>\n",
       "      <td>Istanbul</td>\n",
       "      <td>Turkey</td>\n",
       "      <td>NaN</td>\n",
       "      <td>EMEA</td>\n",
       "      <td>EMEA</td>\n",
       "      <td>FUR-ADV-10004395</td>\n",
       "      <td>235.536</td>\n",
       "      <td>14.0</td>\n",
       "      <td>0.6</td>\n",
       "      <td>-58.884</td>\n",
       "      <td>7.34</td>\n",
       "      <td>Medium</td>\n",
       "    </tr>\n",
       "    <tr>\n",
       "      <th>2</th>\n",
       "      <td>42026</td>\n",
       "      <td>AM-2011-7110</td>\n",
       "      <td>2011-12-14</td>\n",
       "      <td>2011-12-19</td>\n",
       "      <td>Standard Class</td>\n",
       "      <td>HM-4980</td>\n",
       "      <td>Henry MacAllister</td>\n",
       "      <td>Consumer</td>\n",
       "      <td>Vanadzor</td>\n",
       "      <td>Lori</td>\n",
       "      <td>Armenia</td>\n",
       "      <td>NaN</td>\n",
       "      <td>EMEA</td>\n",
       "      <td>EMEA</td>\n",
       "      <td>FUR-ADV-10004395</td>\n",
       "      <td>42.060</td>\n",
       "      <td>1.0</td>\n",
       "      <td>0.0</td>\n",
       "      <td>21.030</td>\n",
       "      <td>4.70</td>\n",
       "      <td>High</td>\n",
       "    </tr>\n",
       "    <tr>\n",
       "      <th>3</th>\n",
       "      <td>50845</td>\n",
       "      <td>LH-2014-4130</td>\n",
       "      <td>2014-07-03</td>\n",
       "      <td>2014-07-07</td>\n",
       "      <td>Standard Class</td>\n",
       "      <td>JC-5385</td>\n",
       "      <td>Jenna Caffey</td>\n",
       "      <td>Consumer</td>\n",
       "      <td>Panevezys</td>\n",
       "      <td>Panevezys</td>\n",
       "      <td>Lithuania</td>\n",
       "      <td>NaN</td>\n",
       "      <td>EMEA</td>\n",
       "      <td>EMEA</td>\n",
       "      <td>FUR-ADV-10004395</td>\n",
       "      <td>25.236</td>\n",
       "      <td>2.0</td>\n",
       "      <td>0.7</td>\n",
       "      <td>-16.824</td>\n",
       "      <td>3.55</td>\n",
       "      <td>High</td>\n",
       "    </tr>\n",
       "    <tr>\n",
       "      <th>4</th>\n",
       "      <td>49736</td>\n",
       "      <td>PL-2013-2260</td>\n",
       "      <td>2013-01-20</td>\n",
       "      <td>2013-01-24</td>\n",
       "      <td>Second Class</td>\n",
       "      <td>SC-10680</td>\n",
       "      <td>Steve Carroll</td>\n",
       "      <td>Home Office</td>\n",
       "      <td>Katowice</td>\n",
       "      <td>Silesia</td>\n",
       "      <td>Poland</td>\n",
       "      <td>NaN</td>\n",
       "      <td>EMEA</td>\n",
       "      <td>EMEA</td>\n",
       "      <td>FUR-ADV-10004395</td>\n",
       "      <td>42.060</td>\n",
       "      <td>1.0</td>\n",
       "      <td>0.0</td>\n",
       "      <td>21.030</td>\n",
       "      <td>3.34</td>\n",
       "      <td>Medium</td>\n",
       "    </tr>\n",
       "    <tr>\n",
       "      <th>5</th>\n",
       "      <td>42002</td>\n",
       "      <td>TU-2014-40</td>\n",
       "      <td>2014-05-08</td>\n",
       "      <td>2014-05-13</td>\n",
       "      <td>Standard Class</td>\n",
       "      <td>AZ-750</td>\n",
       "      <td>Annie Zypern</td>\n",
       "      <td>Consumer</td>\n",
       "      <td>Uskudar</td>\n",
       "      <td>Istanbul</td>\n",
       "      <td>Turkey</td>\n",
       "      <td>NaN</td>\n",
       "      <td>EMEA</td>\n",
       "      <td>EMEA</td>\n",
       "      <td>FUR-ADV-10004395</td>\n",
       "      <td>33.648</td>\n",
       "      <td>2.0</td>\n",
       "      <td>0.6</td>\n",
       "      <td>-8.412</td>\n",
       "      <td>2.50</td>\n",
       "      <td>Medium</td>\n",
       "    </tr>\n",
       "    <tr>\n",
       "      <th>6</th>\n",
       "      <td>51052</td>\n",
       "      <td>IR-2011-1690</td>\n",
       "      <td>2011-07-29</td>\n",
       "      <td>2011-08-03</td>\n",
       "      <td>Standard Class</td>\n",
       "      <td>JL-5130</td>\n",
       "      <td>Jack Lebron</td>\n",
       "      <td>Consumer</td>\n",
       "      <td>Ardabil</td>\n",
       "      <td>Ardabil</td>\n",
       "      <td>Iran</td>\n",
       "      <td>NaN</td>\n",
       "      <td>EMEA</td>\n",
       "      <td>EMEA</td>\n",
       "      <td>FUR-ADV-10004395</td>\n",
       "      <td>42.060</td>\n",
       "      <td>1.0</td>\n",
       "      <td>0.0</td>\n",
       "      <td>21.030</td>\n",
       "      <td>1.74</td>\n",
       "      <td>Medium</td>\n",
       "    </tr>\n",
       "    <tr>\n",
       "      <th>7</th>\n",
       "      <td>47050</td>\n",
       "      <td>TU-2013-6430</td>\n",
       "      <td>2013-03-09</td>\n",
       "      <td>2013-03-12</td>\n",
       "      <td>Second Class</td>\n",
       "      <td>EM-3825</td>\n",
       "      <td>Elizabeth Moffitt</td>\n",
       "      <td>Corporate</td>\n",
       "      <td>Istanbul</td>\n",
       "      <td>Istanbul</td>\n",
       "      <td>Turkey</td>\n",
       "      <td>NaN</td>\n",
       "      <td>EMEA</td>\n",
       "      <td>EMEA</td>\n",
       "      <td>FUR-ADV-10004395</td>\n",
       "      <td>16.824</td>\n",
       "      <td>1.0</td>\n",
       "      <td>0.6</td>\n",
       "      <td>-4.206</td>\n",
       "      <td>0.37</td>\n",
       "      <td>High</td>\n",
       "    </tr>\n",
       "  </tbody>\n",
       "</table>\n",
       "</div>"
      ],
      "text/plain": [
       "   row_id      order_id order_date  ...  profit shipping_cost order_priority\n",
       "0   43722  RS-2011-3610 2011-12-08  ...  42.060         11.83         Medium\n",
       "1   42367  TU-2014-9100 2014-12-18  ... -58.884          7.34         Medium\n",
       "2   42026  AM-2011-7110 2011-12-14  ...  21.030          4.70           High\n",
       "3   50845  LH-2014-4130 2014-07-03  ... -16.824          3.55           High\n",
       "4   49736  PL-2013-2260 2013-01-20  ...  21.030          3.34         Medium\n",
       "5   42002    TU-2014-40 2014-05-08  ...  -8.412          2.50         Medium\n",
       "6   51052  IR-2011-1690 2011-07-29  ...  21.030          1.74         Medium\n",
       "7   47050  TU-2013-6430 2013-03-09  ...  -4.206          0.37           High\n",
       "\n",
       "[8 rows x 21 columns]"
      ]
     },
     "execution_count": 74,
     "metadata": {
      "application/com.datacamp.data-table.v2+json": {
       "status": "success"
      }
     },
     "output_type": "execute_result"
    }
   ],
   "source": [
    "-- calculating the RS-2011-3610 order quantity\n",
    "SELECT *\n",
    "FROM orders\n",
    "WHERE product_id = 'FUR-ADV-10004395'\n",
    "AND market = 'EMEA'\n",
    "AND region = 'EMEA';\n",
    "-- it seems that the missing quantity is 2 (42.06 * 2 pcs)"
   ]
  },
  {
   "cell_type": "code",
   "execution_count": 75,
   "id": "51dae08e-abc4-4e45-a051-55d28703ed4d",
   "metadata": {
    "customType": "sql",
    "dataFrameVariableName": "impute_missing_values",
    "executionCancelledAt": null,
    "executionTime": 1035,
    "integrationExample": {
     "example": "-- Explore the data in the table\nSELECT *\nFROM companies\nLIMIT 5",
     "sqlSource": {
      "integrationId": "89e17161-a224-4a8a-846b-0adc0fe7a4b1",
      "integrationType": "postgresql",
      "type": "integration"
     }
    },
    "lastExecutedAt": 1755101227614,
    "lastExecutedByKernel": "279a3e93-ca7c-4157-a494-96eb21454f83",
    "lastScheduledRunId": null,
    "lastSuccessfullyExecutedCode": "-- impute_missing_values\nWITH missing_quantities AS (\n\tSELECT product_id,\n\t\tdiscount,\n\t\tmarket,\n\t\tregion,\n\t\tsales,\n\t\tquantity,\n\t\tCOALESCE(\n\t\t\t\tquantity,                        \n      \t\t\tCASE product_id                   \n        \t\t\tWHEN 'TEC-STA-10003330' THEN 2\n        \t\t\tWHEN 'FUR-ADV-10000571' THEN 4\n        \t\t\tWHEN 'FUR-BO-10001337' THEN 3\n        \t\t\tWHEN 'TEC-STA-10004542' THEN 2\n        \t\t\tWHEN 'FUR-ADV-10004395' THEN 2\n\t\t\t\tEND) AS calculated_quantity\n\tFROM orders\n\t)\nSELECT *\nFROM missing_quantities\nWHERE quantity IS NULL; ",
    "outputsMetadata": {
     "0": {
      "height": 550,
      "tableState": {
       "customFilter": {
        "const": {
         "type": "boolean",
         "valid": true,
         "value": true
        },
        "id": "a5d2c491-78b0-4b25-be01-e2590366bb52",
        "nodeType": "const"
       }
      },
      "type": "dataFrame"
     }
    },
    "sqlCellMode": "dataFrame",
    "sqlSource": {
     "integrationId": "89e17161-a224-4a8a-846b-0adc0fe7a4b1",
     "integrationType": "postgresql",
     "type": "integration"
    }
   },
   "outputs": [
    {
     "@datacamp/metadata": {
      "executedQuery": "-- impute_missing_values\nWITH missing_quantities AS (\n\tSELECT product_id,\n\t\tdiscount,\n\t\tmarket,\n\t\tregion,\n\t\tsales,\n\t\tquantity,\n\t\tCOALESCE(\n\t\t\t\tquantity,                        \n      \t\t\tCASE product_id                   \n        \t\t\tWHEN 'TEC-STA-10003330' THEN 2\n        \t\t\tWHEN 'FUR-ADV-10000571' THEN 4\n        \t\t\tWHEN 'FUR-BO-10001337' THEN 3\n        \t\t\tWHEN 'TEC-STA-10004542' THEN 2\n        \t\t\tWHEN 'FUR-ADV-10004395' THEN 2\n\t\t\t\tEND) AS calculated_quantity\n\tFROM orders\n\t)\nSELECT *\nFROM missing_quantities\nWHERE quantity IS NULL; ",
      "executedQueryParameters": []
     },
     "data": {
      "application/com.datacamp.data-table.v2+json": {
       "table": {
        "data": {
         "calculated_quantity": [
          2,
          4,
          3,
          2,
          2
         ],
         "discount": [
          0,
          0,
          0.15,
          0,
          0
         ],
         "index": [
          0,
          1,
          2,
          3,
          4
         ],
         "market": [
          "Africa",
          "EMEA",
          "US",
          "Africa",
          "EMEA"
         ],
         "product_id": [
          "TEC-STA-10003330",
          "FUR-ADV-10000571",
          "FUR-BO-10001337",
          "TEC-STA-10004542",
          "FUR-ADV-10004395"
         ],
         "quantity": [
          null,
          null,
          null,
          null,
          null
         ],
         "region": [
          "Africa",
          "EMEA",
          "West",
          "Africa",
          "EMEA"
         ],
         "sales": [
          506.64,
          438.96,
          308.499,
          160.32,
          84.12
         ]
        },
        "schema": {
         "fields": [
          {
           "name": "index",
           "type": "integer"
          },
          {
           "name": "product_id",
           "type": "string"
          },
          {
           "name": "discount",
           "type": "number"
          },
          {
           "name": "market",
           "type": "string"
          },
          {
           "name": "region",
           "type": "string"
          },
          {
           "name": "sales",
           "type": "number"
          },
          {
           "name": "quantity",
           "type": "number"
          },
          {
           "name": "calculated_quantity",
           "type": "integer"
          }
         ],
         "pandas_version": "1.4.0",
         "primaryKey": [
          "index"
         ]
        }
       },
       "total_rows": 5,
       "truncation_type": null
      },
      "text/html": [
       "<div>\n",
       "<style scoped>\n",
       "    .dataframe tbody tr th:only-of-type {\n",
       "        vertical-align: middle;\n",
       "    }\n",
       "\n",
       "    .dataframe tbody tr th {\n",
       "        vertical-align: top;\n",
       "    }\n",
       "\n",
       "    .dataframe thead th {\n",
       "        text-align: right;\n",
       "    }\n",
       "</style>\n",
       "<table border=\"1\" class=\"dataframe\">\n",
       "  <thead>\n",
       "    <tr style=\"text-align: right;\">\n",
       "      <th></th>\n",
       "      <th>product_id</th>\n",
       "      <th>discount</th>\n",
       "      <th>market</th>\n",
       "      <th>region</th>\n",
       "      <th>sales</th>\n",
       "      <th>quantity</th>\n",
       "      <th>calculated_quantity</th>\n",
       "    </tr>\n",
       "  </thead>\n",
       "  <tbody>\n",
       "    <tr>\n",
       "      <th>0</th>\n",
       "      <td>TEC-STA-10003330</td>\n",
       "      <td>0.00</td>\n",
       "      <td>Africa</td>\n",
       "      <td>Africa</td>\n",
       "      <td>506.640</td>\n",
       "      <td>NaN</td>\n",
       "      <td>2</td>\n",
       "    </tr>\n",
       "    <tr>\n",
       "      <th>1</th>\n",
       "      <td>FUR-ADV-10000571</td>\n",
       "      <td>0.00</td>\n",
       "      <td>EMEA</td>\n",
       "      <td>EMEA</td>\n",
       "      <td>438.960</td>\n",
       "      <td>NaN</td>\n",
       "      <td>4</td>\n",
       "    </tr>\n",
       "    <tr>\n",
       "      <th>2</th>\n",
       "      <td>FUR-BO-10001337</td>\n",
       "      <td>0.15</td>\n",
       "      <td>US</td>\n",
       "      <td>West</td>\n",
       "      <td>308.499</td>\n",
       "      <td>NaN</td>\n",
       "      <td>3</td>\n",
       "    </tr>\n",
       "    <tr>\n",
       "      <th>3</th>\n",
       "      <td>TEC-STA-10004542</td>\n",
       "      <td>0.00</td>\n",
       "      <td>Africa</td>\n",
       "      <td>Africa</td>\n",
       "      <td>160.320</td>\n",
       "      <td>NaN</td>\n",
       "      <td>2</td>\n",
       "    </tr>\n",
       "    <tr>\n",
       "      <th>4</th>\n",
       "      <td>FUR-ADV-10004395</td>\n",
       "      <td>0.00</td>\n",
       "      <td>EMEA</td>\n",
       "      <td>EMEA</td>\n",
       "      <td>84.120</td>\n",
       "      <td>NaN</td>\n",
       "      <td>2</td>\n",
       "    </tr>\n",
       "  </tbody>\n",
       "</table>\n",
       "</div>"
      ],
      "text/plain": [
       "         product_id  discount  market  ...    sales  quantity  calculated_quantity\n",
       "0  TEC-STA-10003330      0.00  Africa  ...  506.640       NaN                    2\n",
       "1  FUR-ADV-10000571      0.00    EMEA  ...  438.960       NaN                    4\n",
       "2   FUR-BO-10001337      0.15      US  ...  308.499       NaN                    3\n",
       "3  TEC-STA-10004542      0.00  Africa  ...  160.320       NaN                    2\n",
       "4  FUR-ADV-10004395      0.00    EMEA  ...   84.120       NaN                    2\n",
       "\n",
       "[5 rows x 7 columns]"
      ]
     },
     "execution_count": 75,
     "metadata": {
      "application/com.datacamp.data-table.v2+json": {
       "status": "success"
      }
     },
     "output_type": "execute_result"
    }
   ],
   "source": [
    "-- impute_missing_values\n",
    "WITH missing_quantities AS (\n",
    "\tSELECT product_id,\n",
    "\t\tdiscount,\n",
    "\t\tmarket,\n",
    "\t\tregion,\n",
    "\t\tsales,\n",
    "\t\tquantity,\n",
    "\t\tCOALESCE(\n",
    "\t\t\t\tquantity,                        \n",
    "      \t\t\tCASE product_id                   \n",
    "        \t\t\tWHEN 'TEC-STA-10003330' THEN 2\n",
    "        \t\t\tWHEN 'FUR-ADV-10000571' THEN 4\n",
    "        \t\t\tWHEN 'FUR-BO-10001337' THEN 3\n",
    "        \t\t\tWHEN 'TEC-STA-10004542' THEN 2\n",
    "        \t\t\tWHEN 'FUR-ADV-10004395' THEN 2\n",
    "\t\t\t\tEND) AS calculated_quantity\n",
    "\tFROM orders\n",
    "\t)\n",
    "SELECT *\n",
    "FROM missing_quantities\n",
    "WHERE quantity IS NULL; "
   ]
  }
 ],
 "metadata": {
  "colab": {
   "name": "Welcome to DataCamp Workspaces.ipynb",
   "provenance": []
  },
  "editor": "DataLab",
  "kernelspec": {
   "display_name": "Python [conda env:base] *",
   "language": "python",
   "name": "conda-base-py"
  },
  "language_info": {
   "codemirror_mode": {
    "name": "ipython",
    "version": 3
   },
   "file_extension": ".py",
   "mimetype": "text/x-python",
   "name": "python",
   "nbconvert_exporter": "python",
   "pygments_lexer": "ipython3",
   "version": "3.12.7"
  }
 },
 "nbformat": 4,
 "nbformat_minor": 5
}
